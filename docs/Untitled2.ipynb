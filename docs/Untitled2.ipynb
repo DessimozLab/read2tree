{
 "cells": [
  {
   "cell_type": "code",
   "execution_count": 1,
   "metadata": {
    "collapsed": false,
    "deletable": true,
    "editable": true
   },
   "outputs": [
    {
     "data": {
      "text/plain": [
       "<function pysam.libcbcftools.py_bcftools>"
      ]
     },
     "execution_count": 1,
     "metadata": {},
     "output_type": "execute_result"
    }
   ],
   "source": [
    "import pysam\n",
    "infile = pysam.AlignmentFile(\"test.sam\", \"rb\")\n",
    "outfile = pysam.AlignmentFile(\"test_out.sam\", \"w\", template=infile)\n",
    "for s in infile:\n",
    "    outfile.write(s)\n",
    "pysam.py_bcftools"
   ]
  },
  {
   "cell_type": "code",
   "execution_count": 2,
   "metadata": {
    "collapsed": false,
    "deletable": true,
    "editable": true
   },
   "outputs": [],
   "source": [
    "#pysam.sort(\"-o\", \"test_sorted.sam\", \"test.sam\")\n",
    "# pysam.view(\"-bh\", \"-S\", \"-o\", \"test.bam\", \"test.sam\", catch_stdout=False)\n",
    "# pysam.sort(\"-o\", \"test_sorted.bam\", \"test.bam\")\n",
    "# pysam.index(\"test_sorted.bam\")\n",
    "bla = []\n",
    "for p in pysam.mpileup(\"-d\",\"100000\",\"-B\",\"-uf\",\"../tests/ngm_wrapper/dh10b_ecoli.fasta\",\"test_sorted.bam\"):\n",
    "    bla.append(p)"
   ]
  },
  {
   "cell_type": "code",
   "execution_count": 4,
   "metadata": {
    "collapsed": false,
    "deletable": true,
    "editable": true
   },
   "outputs": [
    {
     "ename": "TypeError",
     "evalue": "py_bcftools() takes no arguments (1 given)",
     "output_type": "error",
     "traceback": [
      "\u001b[0;31m---------------------------------------------------------------------------\u001b[0m",
      "\u001b[0;31mTypeError\u001b[0m                                 Traceback (most recent call last)",
      "\u001b[0;32m<ipython-input-4-024adeb07bc8>\u001b[0m in \u001b[0;36m<module>\u001b[0;34m()\u001b[0m\n\u001b[0;32m----> 1\u001b[0;31m \u001b[0mpysam\u001b[0m\u001b[0;34m.\u001b[0m\u001b[0mpy_bcftools\u001b[0m\u001b[0;34m(\u001b[0m\u001b[0mbla\u001b[0m\u001b[0;34m)\u001b[0m\u001b[0;34m\u001b[0m\u001b[0m\n\u001b[0m",
      "\u001b[0;31mTypeError\u001b[0m: py_bcftools() takes no arguments (1 given)"
     ]
    }
   ],
   "source": [
    "pysam.py_bcftools(bla)"
   ]
  },
  {
   "cell_type": "code",
   "execution_count": 11,
   "metadata": {
    "collapsed": false,
    "deletable": true,
    "editable": true
   },
   "outputs": [
    {
     "data": {
      "text/plain": [
       "AbstractCLI(executable='/Users/daviddylus/bin/ngm')"
      ]
     },
     "execution_count": 11,
     "metadata": {},
     "output_type": "execute_result"
    }
   ],
   "source": [
    "bla"
   ]
  },
  {
   "cell_type": "code",
   "execution_count": 5,
   "metadata": {
    "collapsed": true,
    "deletable": true,
    "editable": true
   },
   "outputs": [],
   "source": [
    "from Bio import SeqIO\n",
    "bla = SeqIO.index('/Users/daviddylus/Research/pore2tree/fritz_scripts/pipeline/Nano_reads/ERR1877969.fastq', 'fastq')"
   ]
  },
  {
   "cell_type": "code",
   "execution_count": 22,
   "metadata": {
    "collapsed": false,
    "deletable": true,
    "editable": true
   },
   "outputs": [],
   "source": [
    "select_mapping = {}\n",
    "for line in open(\"/Users/daviddylus/Desktop/ref_out/mapped.txt\",'r'):\n",
    "    select_mapping[line.rstrip('\\n')] = bla[line.rstrip('\\n')]"
   ]
  },
  {
   "cell_type": "code",
   "execution_count": 28,
   "metadata": {
    "collapsed": false,
    "deletable": true,
    "editable": true
   },
   "outputs": [],
   "source": [
    "with open(\"/Users/daviddylus/Desktop/example.fastq\", \"w\") as output_handle:\n",
    "    SeqIO.write(select_mapping.values(), output_handle, \"fastq\")\n"
   ]
  },
  {
   "cell_type": "code",
   "execution_count": 29,
   "metadata": {
    "collapsed": false,
    "deletable": true,
    "editable": true
   },
   "outputs": [
    {
     "data": {
      "text/plain": [
       "77"
      ]
     },
     "execution_count": 29,
     "metadata": {},
     "output_type": "execute_result"
    }
   ],
   "source": [
    "len(select_mapping)"
   ]
  },
  {
   "cell_type": "code",
   "execution_count": 1,
   "metadata": {
    "collapsed": false,
    "deletable": true,
    "editable": true
   },
   "outputs": [
    {
     "name": "stderr",
     "output_type": "stream",
     "text": [
      "/Users/daviddylus/.pyenv/versions/3.5.1/envs/notebook3/lib/python3.5/site-packages/tables/leaf.py:396: PerformanceWarning: The Leaf ``/Protein/_i_Entries/OmaHOG/sorted`` is exceeding the maximum recommended rowsize (104857600 bytes);\n",
      "be ready to see PyTables asking for *lots* of memory and possibly slow\n",
      "I/O.  You may want to reduce the rowsize by trimming the value of\n",
      "dimensions that are orthogonal (and preferably close) to the *main*\n",
      "dimension of this leave.  Alternatively, in case you have specified a\n",
      "very small/large chunksize, you may want to increase/decrease it.\n",
      "  PerformanceWarning)\n"
     ]
    }
   ],
   "source": [
    "from tables import *\n",
    "from pyoma.browser import db\n",
    "\n",
    "ref_file = \"/Volumes/Untitled/OmaServer.h5\"\n",
    "db_obj = db.Database(ref_file)\n",
    "oma_id_obj = db.OmaIdMapper(db_obj)"
   ]
  },
  {
   "cell_type": "code",
   "execution_count": 7,
   "metadata": {
    "collapsed": false,
    "deletable": true,
    "editable": true
   },
   "outputs": [],
   "source": [
    "import os\n",
    "import pyham\n",
    "\n",
    "orthologous_groups_fasta = os.path.join('/Users/daviddylus/Research/pore2tree/pore2tree/tests/oma_standalone/Output/', \"OrthologousGroupsFasta\")\n",
    "og_orthoxml = os.path.join('/Users/daviddylus/Research/pore2tree/pore2tree/tests/oma_standalone/Output/', 'OrthologousGroups.orthoxml')\n",
    "tree_str = os.path.join('/Users/daviddylus/Research/pore2tree/pore2tree/tests/oma_standalone/Output/', 'EstimatedSpeciesTree.nwk')\n",
    "\n",
    "ham_analysis = pyham.Ham(tree_str, og_orthoxml, use_internal_name=False)"
   ]
  },
  {
   "cell_type": "code",
   "execution_count": 23,
   "metadata": {
    "collapsed": false
   },
   "outputs": [],
   "source": [
    "bla = 0\n",
    "hog_dict = ham_analysis.get_dict_top_level_hogs()\n",
    "for hog,value in ham_analysis.get_dict_top_level_hogs().items():\n",
    "    if len(value.get_all_descendant_genes()) >= 6:\n",
    "        bla += 1"
   ]
  },
  {
   "cell_type": "code",
   "execution_count": 27,
   "metadata": {
    "collapsed": false
   },
   "outputs": [
    {
     "data": {
      "text/plain": [
       "[<pyham.genome.ExtantGenome at 0x113c254a8>,\n",
       " <pyham.genome.ExtantGenome at 0x114fff160>,\n",
       " <pyham.genome.ExtantGenome at 0x114ab9fd0>,\n",
       " <pyham.genome.ExtantGenome at 0x114d44208>,\n",
       " <pyham.genome.ExtantGenome at 0x113914f98>,\n",
       " <pyham.genome.ExtantGenome at 0x114385d68>,\n",
       " <pyham.genome.ExtantGenome at 0x114018d30>]"
      ]
     },
     "execution_count": 27,
     "metadata": {},
     "output_type": "execute_result"
    }
   ],
   "source": [
    "ham_analysis.get_list_extant_genomes()"
   ]
  },
  {
   "cell_type": "code",
   "execution_count": null,
   "metadata": {
    "collapsed": true
   },
   "outputs": [],
   "source": []
  }
 ],
 "metadata": {
  "kernelspec": {
   "display_name": "Python 3",
   "language": "python",
   "name": "python3"
  },
  "language_info": {
   "codemirror_mode": {
    "name": "ipython",
    "version": 3
   },
   "file_extension": ".py",
   "mimetype": "text/x-python",
   "name": "python",
   "nbconvert_exporter": "python",
   "pygments_lexer": "ipython3",
   "version": "3.5.1"
  }
 },
 "nbformat": 4,
 "nbformat_minor": 2
}
