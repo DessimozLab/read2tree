{
 "cells": [
  {
   "cell_type": "code",
   "execution_count": null,
   "metadata": {
    "collapsed": false,
    "deletable": true,
    "editable": true
   },
   "outputs": [],
   "source": [
    "%load_ext autoreload\n",
    "%autoreload"
   ]
  },
  {
   "cell_type": "code",
   "execution_count": 1,
   "metadata": {
    "collapsed": false,
    "deletable": true,
    "editable": true
   },
   "outputs": [],
   "source": [
    "from pore2tree.wrappers.read_mappers import NGM"
   ]
  },
  {
   "cell_type": "code",
   "execution_count": 2,
   "metadata": {
    "collapsed": false,
    "deletable": true,
    "editable": true
   },
   "outputs": [
    {
     "data": {
      "text/plain": [
       "{'computed_alignments': 19997.0,\n",
       " 'file': '/Volumes/Untitled/test_run4/02_ref_dna/CANAW_OGs.fa.sam',\n",
       " 'insert_size': 198.0,\n",
       " 'sam': <pysam.libcalignmentfile.AlignmentFile at 0x1091b9d90>,\n",
       " 'valid_pairs': 77.04}"
      ]
     },
     "execution_count": 2,
     "metadata": {},
     "output_type": "execute_result"
    }
   ],
   "source": [
    "ngm=NGM(\"/Volumes/Untitled/test_run4/02_ref_dna/CANAW_OGs.fa\", [\"/Users/daviddylus/Research/pore2tree/pore2tree/tests/mapper/test3/test_1.fq\",\"/Users/daviddylus/Research/pore2tree/pore2tree/tests/mapper/test3/test_2.fq\"])\n",
    "ngm()"
   ]
  },
  {
   "cell_type": "code",
   "execution_count": null,
   "metadata": {
    "collapsed": false,
    "deletable": true,
    "editable": true
   },
   "outputs": [],
   "source": [
    "ngm = NGMLR(\"/Users/daviddylus/Research/pore2tree/pore2tree/tests/mapper/test1/db/ASHGO_OGs.fa\", \"/Users/daviddylus/Research/pore2tree/pore2tree/tests/mapper/test1/reads/example.fastq\")\n",
    "ngm_bla = ngm()"
   ]
  },
  {
   "cell_type": "code",
   "execution_count": null,
   "metadata": {
    "collapsed": false,
    "deletable": true,
    "editable": true
   },
   "outputs": [],
   "source": [
    "ngm_bla[\"sam\"]\n",
    "for s in ngm_bla['sam']:\n",
    "    print(s)"
   ]
  },
  {
   "cell_type": "code",
   "execution_count": null,
   "metadata": {
    "collapsed": false,
    "deletable": true,
    "editable": true
   },
   "outputs": [],
   "source": [
    "isinstance(\"/Users/daviddylus/Research/pore2tree/pore2tree/tests/ngm_wrapper/dh10b_ecoli.fasta\", str)"
   ]
  },
  {
   "cell_type": "code",
   "execution_count": null,
   "metadata": {
    "collapsed": false,
    "deletable": true,
    "editable": true,
    "scrolled": true
   },
   "outputs": [],
   "source": [
    "import types\n",
    "from Bio.SeqRecord import SeqRecord\n",
    "alignment =\"/Users/daviddylus/Research/pore2tree/pore2tree/tests/ngm_wrapper/dh10b_ecoli.fasta\"\n",
    "isinstance(alignment, (SeqRecord, types.GeneratorType, list))"
   ]
  },
  {
   "cell_type": "code",
   "execution_count": null,
   "metadata": {
    "collapsed": true,
    "deletable": true,
    "editable": true
   },
   "outputs": [],
   "source": [
    "import pysam\n",
    "samfile = pysam.AlignmentFile(\"test.sam\", \"r\")"
   ]
  },
  {
   "cell_type": "code",
   "execution_count": null,
   "metadata": {
    "collapsed": false,
    "deletable": true,
    "editable": true
   },
   "outputs": [],
   "source": [
    "samfile.format"
   ]
  },
  {
   "cell_type": "code",
   "execution_count": null,
   "metadata": {
    "collapsed": false,
    "deletable": true,
    "editable": true
   },
   "outputs": [],
   "source": [
    "from pyoma.browser import db\n",
    "ref_file='/Volumes/Untitled/OmaServer.h5'\n",
    "db_obj = db.Database(ref_file)\n",
    "oma_id_obj = db.OmaIdMapper(db_obj)"
   ]
  },
  {
   "cell_type": "code",
   "execution_count": null,
   "metadata": {
    "collapsed": false,
    "deletable": true,
    "editable": true
   },
   "outputs": [],
   "source": [
    "from Bio import Seq\n",
    "oma_db_nr = oma_id_obj.omaid_to_entry_nr('SCHPO03271')\n",
    "Seq.Seq(db_obj.get_cdna(oma_db_nr).decode(\"utf-8\"))"
   ]
  },
  {
   "cell_type": "code",
   "execution_count": null,
   "metadata": {
    "collapsed": true,
    "deletable": true,
    "editable": true
   },
   "outputs": [],
   "source": []
  }
 ],
 "metadata": {
  "kernelspec": {
   "display_name": "Python 3",
   "language": "python",
   "name": "python3"
  },
  "language_info": {
   "codemirror_mode": {
    "name": "ipython",
    "version": 3
   },
   "file_extension": ".py",
   "mimetype": "text/x-python",
   "name": "python",
   "nbconvert_exporter": "python",
   "pygments_lexer": "ipython3",
   "version": "3.5.1"
  }
 },
 "nbformat": 4,
 "nbformat_minor": 2
}
