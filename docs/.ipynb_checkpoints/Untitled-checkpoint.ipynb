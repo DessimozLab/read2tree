{
 "cells": [
  {
   "cell_type": "markdown",
   "metadata": {
    "deletable": true,
    "editable": true
   },
   "source": [
    "## This is a debuging ipython notebook"
   ]
  },
  {
   "cell_type": "code",
   "execution_count": 1,
   "metadata": {
    "collapsed": false,
    "deletable": true,
    "editable": true
   },
   "outputs": [
    {
     "name": "stdout",
     "output_type": "stream",
     "text": [
      "Namespace(dna_reference='/Volumes/Untitled/eukaryotes.cdna.fa', min_species=5, output_path='/Users/daviddylus/Desktop/test1/', reads='/Users/daviddylus/Research/pore2tree/pore2tree/tests/mapper/test3/test_1a.fq /Users/daviddylus/Research/pore2tree/pore2tree/tests/mapper/test3/test_2a.fq', ref_folder=None, ref_og_aa_folder='.', reference=False, remove_species=None, single_mapping=None, standalone_path='/Users/daviddylus/Research/read2tree/read2tree/tests/oma_standalone/', threads=None)\n"
     ]
    }
   ],
   "source": [
    "%load_ext autoreload\n",
    "import argparse\n",
    "import warnings\n",
    "warnings.filterwarnings('ignore')\n",
    "\n",
    "arg_parser = argparse.ArgumentParser()\n",
    "        \n",
    "    # # Add standard arguments\n",
    "    # if not is_standalone:\n",
    "    #     # If standalone, set in parser.\n",
    "arg_parser.add_argument('--output_path', default='.',\n",
    "                                help='[Default is current directory] Path to '\n",
    "                                     'output directory.')\n",
    "arg_parser.add_argument('--version', action='version',\n",
    "                            help='Show programme\\'s version number and exit.',\n",
    "                            version='0.1')\n",
    "\n",
    "arg_parser.add_argument('--standalone_path', default='/Users/daviddylus/Research/pore2tree/reference_datasets/Dataset1/',\n",
    "                            help='[Default is current directory] Path to '\n",
    "                                 'oma standalone directory.', required=True)\n",
    "arg_parser.add_argument('--remove_species', default=None,\n",
    "                            help='Remove species present in dataset and only do analysis on '\n",
    "                                 'subset of species')\n",
    "\n",
    "\n",
    "arg_parser.add_argument('--ref_og_aa_folder', default='.',\n",
    "                            help='Path to preselected og_aa folder')\n",
    "\n",
    "arg_parser.add_argument('--single_mapping', default=None,\n",
    "                            help='Single species file allowing to map in a job array.')\n",
    "\n",
    "arg_parser.add_argument('--threads', type=int, default=None,\n",
    "                            help='Number of threads for the mapping using ngm / ngmlr!')\n",
    "\n",
    "\n",
    "\n",
    "    # Arguments to generate the reference\n",
    "arg_parser.add_argument('-r', '--reference', action='store_true',\n",
    "                            help='Just generate the reference dataset for mapping')\n",
    "arg_parser.add_argument('--min_species', type=int, default=30,\n",
    "                            help='Min number of species in selected orthologous groups. \\\n",
    "                            If not selected it will be estimated such that around 1000 OGs are available.')\n",
    "arg_parser.add_argument('--dna_reference', default='/Volumes/Untitled/eukaryotes.cdna.fa',\n",
    "                            help='Reference fasta file that contains nucleotide sequences.')\n",
    "\n",
    "    # Arguments to map the reads\n",
    "arg_parser.add_argument('--ref_folder', default=None,\n",
    "                            help='Folder containing reference files with sequences sorted by species.')\n",
    "arg_parser.add_argument('--reads', default='/Users/daviddylus/Research/pore2tree/fritz_scripts/pipeline/Nano_reads/ERR1877969.fastq',\n",
    "                            help='Reads to be mapped to reference.')\n",
    "# arg_parser.add_argument('--reads', nargs='2',default=None, help='Reads to be mapped to reference.')\n",
    "\n",
    "\n",
    "# Parse the arguments.\n",
    "# reference = ['--ref_folder', '/Users/daviddylus/Research/pore2tree/pore2tree/tests/mapper/test1/db/']\n",
    "argv = ['--output_path','/Users/daviddylus/Desktop/test1/','--standalone_path', '/Users/daviddylus/Research/read2tree/read2tree/tests/oma_standalone/', '--min_species', \n",
    "        '5', '--dna_reference', '/Volumes/Untitled/eukaryotes.cdna.fa',\n",
    "        '--reads', '/Users/daviddylus/Research/read2tree/read2tree/tests/mapper/test3/test_1a.fq /Users/daviddylus/Research/read2tree/read2tree/tests/mapper/test3/test_2a.fq']\n",
    "args = arg_parser.parse_args(argv)\n",
    "print(args)"
   ]
  },
  {
   "cell_type": "code",
   "execution_count": 3,
   "metadata": {
    "collapsed": false,
    "deletable": true,
    "editable": true
   },
   "outputs": [
    {
     "name": "stdout",
     "output_type": "stream",
     "text": [
      "2\n"
     ]
    }
   ],
   "source": [
    "from read2tree.Progress import Progress\n",
    "progress = Progress(args)\n",
    "print(progress.status)"
   ]
  },
  {
   "cell_type": "code",
   "execution_count": 4,
   "metadata": {
    "collapsed": false,
    "deletable": true,
    "editable": true
   },
   "outputs": [
    {
     "name": "stderr",
     "output_type": "stream",
     "text": [
      "Loading files: 39 OGs [00:00, 313.37 OGs/s]"
     ]
    },
    {
     "name": "stdout",
     "output_type": "stream",
     "text": [
      "--- Re-load ogs and find their corresponding DNA seq from output folder ---\n"
     ]
    },
    {
     "name": "stderr",
     "output_type": "stream",
     "text": [
      "Loading files: 4111 OGs [00:06, 593.56 OGs/s]\n"
     ]
    }
   ],
   "source": [
    "from read2tree.OGSet import OGSet\n",
    "from read2tree.parser import OMAOutputParser\n",
    "if progress.status >= 1:\n",
    "    ogset = OGSet(args, load=False)\n",
    "else:\n",
    "    oma_output = OMAOutputParser(args)\n",
    "    args.oma_output_path = oma_output.oma_output_path\n",
    "    ogset = OGSet(args, oma_output=oma_output)"
   ]
  },
  {
   "cell_type": "code",
   "execution_count": 5,
   "metadata": {
    "collapsed": false,
    "deletable": true,
    "editable": true
   },
   "outputs": [
    {
     "name": "stderr",
     "output_type": "stream",
     "text": [
      "Loading references for mapping from folder:  29%|██▊       | 2/7 [00:00<00:00, 11.98 species/s]"
     ]
    },
    {
     "name": "stdout",
     "output_type": "stream",
     "text": [
      "--- Generating reference for mapping from folder ---\n"
     ]
    },
    {
     "name": "stderr",
     "output_type": "stream",
     "text": [
      "Loading references for mapping from folder: 100%|██████████| 7/7 [00:00<00:00,  9.21 species/s]\n"
     ]
    }
   ],
   "source": [
    "from read2tree.ReferenceSet import ReferenceSet\n",
    "if progress.status >= 2:\n",
    "    reference = ReferenceSet(args, load=False)\n",
    "else:\n",
    "    reference = ReferenceSet(args, og_set=ogset.ogs, load=True)"
   ]
  },
  {
   "cell_type": "code",
   "execution_count": 6,
   "metadata": {
    "collapsed": false,
    "deletable": true,
    "editable": true,
    "scrolled": false
   },
   "outputs": [
    {
     "name": "stderr",
     "output_type": "stream",
     "text": [
      "\r",
      "Mapping reads to species:   0%|          | 0/7 [00:00<?, ? species/s]"
     ]
    },
    {
     "name": "stdout",
     "output_type": "stream",
     "text": [
      "--- Mapping of reads to reference sequences ---\n"
     ]
    },
    {
     "name": "stderr",
     "output_type": "stream",
     "text": [
      "No match found for \"[MAIN] Valid pairs found:\" (at char 0), (line:1, col:1)\n"
     ]
    },
    {
     "name": "stdout",
     "output_type": "stream",
     "text": [
      "[MAIN] NextGenMap 0.5.4\n",
      "[MAIN] Startup : x64 (build Jul 24 2017 15:59:24)\n",
      "[MAIN] Starting time: 2017-10-12.18:11:33\n",
      "[CONFIG] Parameter:  --affine 0 --argos_min_score 0 --bin_size 2 --block_multiplier 2 --broken_pairs 0 --bs_cutoff 6 --bs_mapping 0 --cpu_threads 4 --dualstrand 1 --fast 0 --fast_pairing 0 --force_rlength_check 0 --format 1 --gap_extend_penalty 5 --gap_read_penalty 20 --gap_ref_penalty 20 --gpu 0 --hard_clip 0 --keep_tags 0 --kmer 13 --kmer_min 0 --kmer_skip 2 --match_bonus 10 --match_bonus_tc 2 --match_bonus_tt 10 --max_cmrs 2147483647 --max_equal 1 --max_insert_size 1000 --max_polya -1 --max_read_length 0 --min_identity 0.650000 --min_insert_size 0 --min_mq 0 --min_residues 0.500000 --min_score 0.000000 --mismatch_penalty 15 --mode 0 --no_progress 0 --no_unal 0 --ocl_threads 1 --output /Users/daviddylus/Desktop/test1/03_mapping_test_1a/CANTE.fa.sam --overwrite 1 --pair_score_cutoff 0.900000 --paired 1 --parse_all 1 --pe_delimiter / --qry1 /Users/daviddylus/Research/pore2tree/pore2tree/tests/mapper/test3/test_1a.fq --qry2 /Users/daviddylus/Research/pore2tree/pore2tree/tests/mapper/test3/test_2a.fq --qry_count -1 --qry_start 0 --ref /Users/daviddylus/Desktop/test1/03_mapping_test_1a/CANTE.fa --ref_mode -1 --sensitive 0 --silent_clip 0 --skip_mate_check 0 --skip_save 0 --slam_seq 0 --step_count 4 --strata 0 --topn 1 --trim5 0 --update_check 0 --very_fast 0 --very_sensitive 0\n",
      "[NGM] Opening for output (SAM): /Users/daviddylus/Desktop/test1/03_mapping_test_1a/CANTE.fa.sam\n",
      "[SEQPROV] Encoding reference sequence.\n",
      "[SEQPROV] Size of reference genome 9 Mbp (max. 17179 Mbp)\n",
      "[SEQPROV] Allocating 4622576 (5697315) bytes for the reference.\n",
      "[SEQPROV] BinRef length: 4620716ll (elapsed 0.119371)\n",
      "[SEQPROV] 0 reference sequences were skipped (length < 10).\n",
      "[SEQPROV] Writing encoded reference to /Users/daviddylus/Desktop/test1/03_mapping_test_1a/CANTE.fa-enc.2.ngm\n",
      "[SEQPROV] Writing to disk took 0.01s\n",
      "[PREPROCESS] Building reference table\n",
      "[PREPROCESS] Allocated 1 hashtable units (tableLocMax=2^32.000000, genomeSize=2^23.139685)\n",
      "[PREPROCESS] Building RefTable #0 (kmer length: 13, reference skip: 2)\n",
      "[PREPROCESS] \tNumber of k-mers: 67108865\n",
      "[PREPROCESS] \tCounting kmers took 0.21s\n",
      "[PREPROCESS] \tAverage number of positions per prefix: 1.090298\n",
      "[PREPROCESS] \tIndex size: 335544325 byte (67108865 x 5)\n",
      "[PREPROCESS] \tGenerating index took 2.50s\n",
      "[PREPROCESS] \tAllocating and initializing prefix Table took 0.00s\n",
      "[PREPROCESS] \tNumber of prefix positions is 1770561 (4)\n",
      "[PREPROCESS] \tSize of RefTable is 7082244\n",
      "[PREPROCESS] \tNumber of repetitive k-mers ignored: 4\n",
      "[PREPROCESS] \tOverall time for creating RefTable: 3.07s\n",
      "[PREPROCESS] Writing RefTable to /Users/daviddylus/Desktop/test1/03_mapping_test_1a/CANTE.fa-ht-13-2.3.ngm\n",
      "[PREPROCESS] Writing to disk took 1.20s\n",
      "[PREPROCESS] Max. k-mer frequency set so 100!\n",
      "[INPUT] Input is paired end data.\n",
      "[INPUT] Opening file /Users/daviddylus/Research/pore2tree/pore2tree/tests/mapper/test3/test_1a.fq for reading\n",
      "[INPUT] Opening file /Users/daviddylus/Research/pore2tree/pore2tree/tests/mapper/test3/test_2a.fq for reading\n",
      "[INPUT] File /Users/daviddylus/Research/pore2tree/pore2tree/tests/mapper/test3/test_1a.fq does not exist!\n",
      "This error is fatal. Quitting...\n"
     ]
    },
    {
     "name": "stderr",
     "output_type": "stream",
     "text": [
      "\n"
     ]
    },
    {
     "ename": "UnboundLocalError",
     "evalue": "local variable 'valid_pairs' referenced before assignment",
     "output_type": "error",
     "traceback": [
      "\u001b[0;31m---------------------------------------------------------------------------\u001b[0m",
      "\u001b[0;31mUnboundLocalError\u001b[0m                         Traceback (most recent call last)",
      "\u001b[0;32m<ipython-input-6-74af6f0666a5>\u001b[0m in \u001b[0;36m<module>\u001b[0;34m()\u001b[0m\n\u001b[1;32m      5\u001b[0m     \u001b[0mmapper\u001b[0m \u001b[0;34m=\u001b[0m \u001b[0mMapper\u001b[0m\u001b[0;34m(\u001b[0m\u001b[0margs\u001b[0m\u001b[0;34m,\u001b[0m \u001b[0mog_set\u001b[0m\u001b[0;34m=\u001b[0m\u001b[0mogset\u001b[0m\u001b[0;34m.\u001b[0m\u001b[0mogs\u001b[0m\u001b[0;34m,\u001b[0m \u001b[0mload\u001b[0m\u001b[0;34m=\u001b[0m\u001b[0;32mFalse\u001b[0m\u001b[0;34m)\u001b[0m\u001b[0;34m\u001b[0m\u001b[0m\n\u001b[1;32m      6\u001b[0m \u001b[0;32melse\u001b[0m\u001b[0;34m:\u001b[0m\u001b[0;34m\u001b[0m\u001b[0m\n\u001b[0;32m----> 7\u001b[0;31m     \u001b[0mmapper\u001b[0m \u001b[0;34m=\u001b[0m \u001b[0mMapper\u001b[0m\u001b[0;34m(\u001b[0m\u001b[0margs\u001b[0m\u001b[0;34m,\u001b[0m \u001b[0mref_set\u001b[0m\u001b[0;34m=\u001b[0m\u001b[0mreference\u001b[0m\u001b[0;34m.\u001b[0m\u001b[0mref\u001b[0m\u001b[0;34m,\u001b[0m \u001b[0mog_set\u001b[0m\u001b[0;34m=\u001b[0m\u001b[0mogset\u001b[0m\u001b[0;34m.\u001b[0m\u001b[0mogs\u001b[0m\u001b[0;34m)\u001b[0m\u001b[0;34m\u001b[0m\u001b[0m\n\u001b[0m",
      "\u001b[0;32m/Users/daviddylus/.pyenv/versions/3.5.1/envs/notebook3/lib/python3.5/site-packages/read2tree-0.0.1-py3.5.egg/read2tree/Mapper.py\u001b[0m in \u001b[0;36m__init__\u001b[0;34m(self, args, ref_set, og_set, load)\u001b[0m\n\u001b[1;32m     56\u001b[0m             \u001b[0;32mif\u001b[0m \u001b[0mref_set\u001b[0m \u001b[0;32mis\u001b[0m \u001b[0;32mnot\u001b[0m \u001b[0;32mNone\u001b[0m\u001b[0;34m:\u001b[0m\u001b[0;34m\u001b[0m\u001b[0m\n\u001b[1;32m     57\u001b[0m                 \u001b[0;32mif\u001b[0m \u001b[0mself\u001b[0m\u001b[0;34m.\u001b[0m\u001b[0margs\u001b[0m\u001b[0;34m.\u001b[0m\u001b[0msingle_mapping\u001b[0m \u001b[0;32mis\u001b[0m \u001b[0;32mNone\u001b[0m\u001b[0;34m:\u001b[0m\u001b[0;34m\u001b[0m\u001b[0m\n\u001b[0;32m---> 58\u001b[0;31m                     \u001b[0mself\u001b[0m\u001b[0;34m.\u001b[0m\u001b[0mmapped_records\u001b[0m \u001b[0;34m=\u001b[0m \u001b[0mself\u001b[0m\u001b[0;34m.\u001b[0m\u001b[0m_map_reads_to_references\u001b[0m\u001b[0;34m(\u001b[0m\u001b[0mref_set\u001b[0m\u001b[0;34m)\u001b[0m\u001b[0;34m\u001b[0m\u001b[0m\n\u001b[0m\u001b[1;32m     59\u001b[0m                     \u001b[0mself\u001b[0m\u001b[0;34m.\u001b[0m\u001b[0mprogress\u001b[0m\u001b[0;34m.\u001b[0m\u001b[0mset_status\u001b[0m\u001b[0;34m(\u001b[0m\u001b[0;34m'map'\u001b[0m\u001b[0;34m)\u001b[0m\u001b[0;34m\u001b[0m\u001b[0m\n\u001b[1;32m     60\u001b[0m                 \u001b[0;32melse\u001b[0m\u001b[0;34m:\u001b[0m\u001b[0;34m\u001b[0m\u001b[0m\n",
      "\u001b[0;32m/Users/daviddylus/.pyenv/versions/3.5.1/envs/notebook3/lib/python3.5/site-packages/read2tree-0.0.1-py3.5.egg/read2tree/Mapper.py\u001b[0m in \u001b[0;36m_map_reads_to_references\u001b[0;34m(self, reference)\u001b[0m\n\u001b[1;32m    140\u001b[0m             \u001b[0;32mif\u001b[0m \u001b[0mlen\u001b[0m\u001b[0;34m(\u001b[0m\u001b[0mself\u001b[0m\u001b[0;34m.\u001b[0m\u001b[0m_reads\u001b[0m\u001b[0;34m)\u001b[0m \u001b[0;34m==\u001b[0m \u001b[0;36m2\u001b[0m\u001b[0;34m:\u001b[0m\u001b[0;34m\u001b[0m\u001b[0m\n\u001b[1;32m    141\u001b[0m                 \u001b[0mngm_wrapper\u001b[0m \u001b[0;34m=\u001b[0m \u001b[0mNGM\u001b[0m\u001b[0;34m(\u001b[0m\u001b[0mref_file_handle\u001b[0m\u001b[0;34m,\u001b[0m \u001b[0mself\u001b[0m\u001b[0;34m.\u001b[0m\u001b[0m_reads\u001b[0m\u001b[0;34m)\u001b[0m\u001b[0;34m\u001b[0m\u001b[0m\n\u001b[0;32m--> 142\u001b[0;31m                 \u001b[0mngm\u001b[0m \u001b[0;34m=\u001b[0m \u001b[0mngm_wrapper\u001b[0m\u001b[0;34m(\u001b[0m\u001b[0;34m)\u001b[0m\u001b[0;34m\u001b[0m\u001b[0m\n\u001b[0m\u001b[1;32m    143\u001b[0m                 \u001b[0msam_file\u001b[0m \u001b[0;34m=\u001b[0m \u001b[0mngm\u001b[0m\u001b[0;34m[\u001b[0m\u001b[0;34m'file'\u001b[0m\u001b[0;34m]\u001b[0m\u001b[0;34m\u001b[0m\u001b[0m\n\u001b[1;32m    144\u001b[0m             \u001b[0;32melse\u001b[0m\u001b[0;34m:\u001b[0m\u001b[0;34m\u001b[0m\u001b[0m\n",
      "\u001b[0;32m/Users/daviddylus/.pyenv/versions/3.5.1/envs/notebook3/lib/python3.5/site-packages/read2tree-0.0.1-py3.5.egg/read2tree/wrappers/read_mappers/ngm.py\u001b[0m in \u001b[0;36m__call__\u001b[0;34m(self, *args, **kwargs)\u001b[0m\n\u001b[1;32m     52\u001b[0m         \u001b[0;32melse\u001b[0m\u001b[0;34m:\u001b[0m\u001b[0;34m\u001b[0m\u001b[0m\n\u001b[1;32m     53\u001b[0m             \u001b[0moutput\u001b[0m\u001b[0;34m,\u001b[0m \u001b[0merror\u001b[0m \u001b[0;34m=\u001b[0m \u001b[0mself\u001b[0m\u001b[0;34m.\u001b[0m\u001b[0m_call\u001b[0m\u001b[0;34m(\u001b[0m\u001b[0mself\u001b[0m\u001b[0;34m.\u001b[0m\u001b[0mref_input\u001b[0m\u001b[0;34m,\u001b[0m \u001b[0mself\u001b[0m\u001b[0;34m.\u001b[0m\u001b[0mread_input\u001b[0m\u001b[0;34m,\u001b[0m \u001b[0;34m*\u001b[0m\u001b[0margs\u001b[0m\u001b[0;34m,\u001b[0m \u001b[0;34m**\u001b[0m\u001b[0mkwargs\u001b[0m\u001b[0;34m)\u001b[0m\u001b[0;34m\u001b[0m\u001b[0m\n\u001b[0;32m---> 54\u001b[0;31m             \u001b[0mself\u001b[0m\u001b[0;34m.\u001b[0m\u001b[0mresult\u001b[0m \u001b[0;34m=\u001b[0m \u001b[0mself\u001b[0m\u001b[0;34m.\u001b[0m\u001b[0m_read_result\u001b[0m\u001b[0;34m(\u001b[0m\u001b[0merror\u001b[0m\u001b[0;34m,\u001b[0m \u001b[0mself\u001b[0m\u001b[0;34m.\u001b[0m\u001b[0mref_input\u001b[0m\u001b[0;34m)\u001b[0m  \u001b[0;31m# store result\u001b[0m\u001b[0;34m\u001b[0m\u001b[0m\n\u001b[0m\u001b[1;32m     55\u001b[0m \u001b[0;34m\u001b[0m\u001b[0m\n\u001b[1;32m     56\u001b[0m         \u001b[0mself\u001b[0m\u001b[0;34m.\u001b[0m\u001b[0mstdout\u001b[0m \u001b[0;34m=\u001b[0m \u001b[0moutput\u001b[0m\u001b[0;34m\u001b[0m\u001b[0m\n",
      "\u001b[0;32m/Users/daviddylus/.pyenv/versions/3.5.1/envs/notebook3/lib/python3.5/site-packages/read2tree-0.0.1-py3.5.egg/read2tree/wrappers/read_mappers/ngm.py\u001b[0m in \u001b[0;36m_read_result\u001b[0;34m(self, output, filename)\u001b[0m\n\u001b[1;32m     92\u001b[0m         \u001b[0;32mtry\u001b[0m\u001b[0;34m:\u001b[0m\u001b[0;34m\u001b[0m\u001b[0m\n\u001b[1;32m     93\u001b[0m             \u001b[0;31m# parser.parse(output)\u001b[0m\u001b[0;34m\u001b[0m\u001b[0;34m\u001b[0m\u001b[0m\n\u001b[0;32m---> 94\u001b[0;31m             \u001b[0mresult\u001b[0m \u001b[0;34m=\u001b[0m \u001b[0mparser\u001b[0m\u001b[0;34m.\u001b[0m\u001b[0mto_dict\u001b[0m\u001b[0;34m(\u001b[0m\u001b[0moutfile\u001b[0m\u001b[0;34m,\u001b[0m \u001b[0moutput\u001b[0m\u001b[0;34m)\u001b[0m\u001b[0;34m\u001b[0m\u001b[0m\n\u001b[0m\u001b[1;32m     95\u001b[0m         \u001b[0;32mexcept\u001b[0m \u001b[0mIOError\u001b[0m \u001b[0;32mas\u001b[0m \u001b[0mioerr\u001b[0m\u001b[0;34m:\u001b[0m\u001b[0;34m\u001b[0m\u001b[0m\n\u001b[1;32m     96\u001b[0m             \u001b[0mlogger\u001b[0m\u001b[0;34m.\u001b[0m\u001b[0merror\u001b[0m\u001b[0;34m(\u001b[0m\u001b[0;34m'Error reading results'\u001b[0m\u001b[0;34m)\u001b[0m\u001b[0;34m\u001b[0m\u001b[0m\n",
      "\u001b[0;32m/Users/daviddylus/.pyenv/versions/3.5.1/envs/notebook3/lib/python3.5/site-packages/read2tree-0.0.1-py3.5.egg/read2tree/wrappers/read_mappers/parser.py\u001b[0m in \u001b[0;36mto_dict\u001b[0;34m(self, file, stdout)\u001b[0m\n\u001b[1;32m     40\u001b[0m \u001b[0;34m\u001b[0m\u001b[0m\n\u001b[1;32m     41\u001b[0m     \u001b[0;32mdef\u001b[0m \u001b[0mto_dict\u001b[0m\u001b[0;34m(\u001b[0m\u001b[0mself\u001b[0m\u001b[0;34m,\u001b[0m \u001b[0mfile\u001b[0m\u001b[0;34m,\u001b[0m \u001b[0mstdout\u001b[0m\u001b[0;34m)\u001b[0m\u001b[0;34m:\u001b[0m\u001b[0;34m\u001b[0m\u001b[0m\n\u001b[0;32m---> 42\u001b[0;31m         \u001b[0mvalid_pairs\u001b[0m\u001b[0;34m,\u001b[0m \u001b[0minsert_size\u001b[0m\u001b[0;34m,\u001b[0m \u001b[0mcomputed_alignments\u001b[0m \u001b[0;34m=\u001b[0m \u001b[0mself\u001b[0m\u001b[0;34m.\u001b[0m\u001b[0mparse\u001b[0m\u001b[0;34m(\u001b[0m\u001b[0mstdout\u001b[0m\u001b[0;34m)\u001b[0m\u001b[0;34m\u001b[0m\u001b[0m\n\u001b[0m\u001b[1;32m     43\u001b[0m         \u001b[0msamfile\u001b[0m \u001b[0;34m=\u001b[0m \u001b[0mpysam\u001b[0m\u001b[0;34m.\u001b[0m\u001b[0mAlignmentFile\u001b[0m\u001b[0;34m(\u001b[0m\u001b[0mfile\u001b[0m\u001b[0;34m,\u001b[0m \u001b[0;34m\"r\"\u001b[0m\u001b[0;34m)\u001b[0m\u001b[0;34m\u001b[0m\u001b[0m\n\u001b[1;32m     44\u001b[0m         result = {'file': file,\n",
      "\u001b[0;32m/Users/daviddylus/.pyenv/versions/3.5.1/envs/notebook3/lib/python3.5/site-packages/read2tree-0.0.1-py3.5.egg/read2tree/wrappers/read_mappers/parser.py\u001b[0m in \u001b[0;36mparse\u001b[0;34m(self, stdout)\u001b[0m\n\u001b[1;32m     37\u001b[0m             \u001b[0mlogger\u001b[0m\u001b[0;34m.\u001b[0m\u001b[0merror\u001b[0m\u001b[0;34m(\u001b[0m\u001b[0merr\u001b[0m\u001b[0;34m)\u001b[0m\u001b[0;34m\u001b[0m\u001b[0m\n\u001b[1;32m     38\u001b[0m \u001b[0;34m\u001b[0m\u001b[0m\n\u001b[0;32m---> 39\u001b[0;31m         \u001b[0;32mreturn\u001b[0m \u001b[0mvalid_pairs\u001b[0m\u001b[0;34m,\u001b[0m \u001b[0minsert_size\u001b[0m\u001b[0;34m,\u001b[0m \u001b[0mcomputed_alignments\u001b[0m\u001b[0;34m\u001b[0m\u001b[0m\n\u001b[0m\u001b[1;32m     40\u001b[0m \u001b[0;34m\u001b[0m\u001b[0m\n\u001b[1;32m     41\u001b[0m     \u001b[0;32mdef\u001b[0m \u001b[0mto_dict\u001b[0m\u001b[0;34m(\u001b[0m\u001b[0mself\u001b[0m\u001b[0;34m,\u001b[0m \u001b[0mfile\u001b[0m\u001b[0;34m,\u001b[0m \u001b[0mstdout\u001b[0m\u001b[0;34m)\u001b[0m\u001b[0;34m:\u001b[0m\u001b[0;34m\u001b[0m\u001b[0m\n",
      "\u001b[0;31mUnboundLocalError\u001b[0m: local variable 'valid_pairs' referenced before assignment"
     ]
    }
   ],
   "source": [
    "# %load_ext autoreload\n",
    "#%autoreload\n",
    "from read2tree.Mapper import Mapper\n",
    "if progress.status >= 3:\n",
    "    mapper = Mapper(args, og_set=ogset.ogs, load=False)\n",
    "else:\n",
    "    mapper = Mapper(args, ref_set=reference.ref, og_set=ogset.ogs)"
   ]
  },
  {
   "cell_type": "code",
   "execution_count": null,
   "metadata": {
    "collapsed": false,
    "deletable": true,
    "editable": true
   },
   "outputs": [],
   "source": [
    "new_ogs = ogset.add_mapped_seq(mapper.og_records)"
   ]
  },
  {
   "cell_type": "code",
   "execution_count": null,
   "metadata": {
    "collapsed": false,
    "deletable": true,
    "editable": true
   },
   "outputs": [],
   "source": [
    "%reload_ext autoreload \n",
    "%autoreload 2 \n",
    "from read2tree import Aligner\n",
    "alignments = Aligner.Aligner(args, ogset.mapped_ogs)"
   ]
  },
  {
   "cell_type": "code",
   "execution_count": null,
   "metadata": {
    "collapsed": false,
    "deletable": true,
    "editable": true
   },
   "outputs": [],
   "source": [
    "concat_alignment = alignments.concat_alignment()"
   ]
  },
  {
   "cell_type": "code",
   "execution_count": null,
   "metadata": {
    "collapsed": false,
    "deletable": true,
    "editable": true
   },
   "outputs": [],
   "source": [
    "from read2tree import TreeInference\n",
    "tree = TreeInference.TreeInference(args, concat_alignment=concat_alignment)"
   ]
  },
  {
   "cell_type": "code",
   "execution_count": null,
   "metadata": {
    "collapsed": false,
    "deletable": true,
    "editable": true
   },
   "outputs": [],
   "source": [
    "print(tree.tree)"
   ]
  },
  {
   "cell_type": "code",
   "execution_count": null,
   "metadata": {
    "collapsed": false,
    "deletable": true,
    "editable": true
   },
   "outputs": [],
   "source": [
    "import re\n",
    "bla = 'bascdd [KADO]'\n",
    "re.search('^(.*?)\\[(.*)\\]', '', bla)"
   ]
  },
  {
   "cell_type": "code",
   "execution_count": null,
   "metadata": {
    "collapsed": true,
    "deletable": true,
    "editable": true
   },
   "outputs": [],
   "source": [
    "import pyopa\n"
   ]
  },
  {
   "cell_type": "code",
   "execution_count": null,
   "metadata": {
    "collapsed": true,
    "deletable": true,
    "editable": true
   },
   "outputs": [],
   "source": []
  }
 ],
 "metadata": {
  "kernelspec": {
   "display_name": "Python 3",
   "language": "python",
   "name": "python3"
  },
  "language_info": {
   "codemirror_mode": {
    "name": "ipython",
    "version": 3
   },
   "file_extension": ".py",
   "mimetype": "text/x-python",
   "name": "python",
   "nbconvert_exporter": "python",
   "pygments_lexer": "ipython3",
   "version": "3.5.1"
  }
 },
 "nbformat": 4,
 "nbformat_minor": 2
}
