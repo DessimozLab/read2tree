{
 "cells": [
  {
   "cell_type": "markdown",
   "metadata": {
    "deletable": true,
    "editable": true
   },
   "source": [
    "## This is a debuging ipython notebook"
   ]
  },
  {
   "cell_type": "code",
   "execution_count": 1,
   "metadata": {
    "collapsed": false,
    "deletable": true,
    "editable": true
   },
   "outputs": [
    {
     "name": "stdout",
     "output_type": "stream",
     "text": [
      "Namespace(dna_reference='/Users/daviddylus/mnt/omabrowser/OmaServer.h5', keep_all_ogs=False, min_species=5, output_path='/Users/daviddylus/Desktop/bla_testd/', reads='/Users/daviddylus/Research/read2tree/read2tree/tests/mapper/test3/test_1b.fq /Users/daviddylus/Research/read2tree/read2tree/tests/mapper/test3/test_2b.fq', ref_folder=None, ref_og_aa_folder='.', reference=False, remove_species='CANAW,YEAST', remove_species_mapping_only=False, single_mapping=None, standalone_path='/Users/daviddylus/Research/read2tree/read2tree/tests/oma_standalone/', threads=None)\n"
     ]
    }
   ],
   "source": [
    "%load_ext autoreload\n",
    "import argparse\n",
    "import warnings\n",
    "warnings.filterwarnings('ignore')\n",
    "\n",
    "arg_parser = argparse.ArgumentParser()\n",
    "        \n",
    "    # # Add standard arguments\n",
    "    # if not is_standalone:\n",
    "    #     # If standalone, set in parser.\n",
    "arg_parser.add_argument('--output_path', default='.',\n",
    "                                help='[Default is current directory] Path to '\n",
    "                                     'output directory.')\n",
    "arg_parser.add_argument('--version', action='version',\n",
    "                            help='Show programme\\'s version number and exit.',\n",
    "                            version='0.1')\n",
    "\n",
    "arg_parser.add_argument('--standalone_path', default='/Users/daviddylus/Research/pore2tree/reference_datasets/Dataset1/',\n",
    "                            help='[Default is current directory] Path to '\n",
    "                                 'oma standalone directory.', required=True)\n",
    "arg_parser.add_argument('--remove_species', default=None,\n",
    "                            help='Remove species present in dataset and only do analysis on '\n",
    "                                 'subset of species')\n",
    "arg_parser.add_argument('--keep_all_ogs', action='store_true',\n",
    "                            help='Keep all orthologs after addition of mapped seq, which means '\n",
    "                            'also the groups that have no mapped sequence. Otherwise only '\n",
    "                            'groups are used that have the mapped sequence for alignment '\n",
    "                            'and tree inference.')\n",
    "\n",
    "arg_parser.add_argument('--ref_og_aa_folder', default='.',\n",
    "                            help='Path to preselected og_aa folder')\n",
    "\n",
    "arg_parser.add_argument('--single_mapping', default=None,\n",
    "                            help='Single species file allowing to map in a job array.')\n",
    "\n",
    "arg_parser.add_argument('--threads', type=int, default=None,\n",
    "                            help='Number of threads for the mapping using ngm / ngmlr!')\n",
    "\n",
    "arg_parser.add_argument('--remove_species_mapping_only', action='store_true',\n",
    "                            help='[Default is remove from everywhere]'\n",
    "                                 'Remove species only from mapping set.')\n",
    "\n",
    "    # Arguments to generate the reference\n",
    "arg_parser.add_argument('-r', '--reference', action='store_true',\n",
    "                            help='Just generate the reference dataset for mapping')\n",
    "arg_parser.add_argument('--min_species', type=int, default=30,\n",
    "                            help='Min number of species in selected orthologous groups. \\\n",
    "                            If not selected it will be estimated such that around 1000 OGs are available.')\n",
    "arg_parser.add_argument('--dna_reference', default='/Volumes/Untitled/eukaryotes.cdna.fa',\n",
    "                            help='Reference fasta file that contains nucleotide sequences.')\n",
    "\n",
    "    # Arguments to map the reads\n",
    "arg_parser.add_argument('--ref_folder', default=None,\n",
    "                            help='Folder containing reference files with sequences sorted by species.')\n",
    "arg_parser.add_argument('--reads', default='/Users/daviddylus/Research/pore2tree/fritz_scripts/pipeline/Nano_reads/ERR1877969.fastq',\n",
    "                            help='Reads to be mapped to reference.')\n",
    "# arg_parser.add_argument('--reads', nargs='2',default=None, help='Reads to be mapped to reference.')\n",
    "\n",
    "\n",
    "# Parse the arguments.\n",
    "# reference = ['--ref_folder', '/Users/daviddylus/Research/pore2tree/pore2tree/tests/mapper/test1/db/']\n",
    "argv = ['--output_path','/Users/daviddylus/Desktop/bla_testd/','--standalone_path', '/Users/daviddylus/Research/read2tree/read2tree/tests/oma_standalone/', '--min_species', \n",
    "        '5', '--dna_reference', '/Users/daviddylus/mnt/omabrowser/OmaServer.h5', '--remove_species', 'CANAW,YEAST',\n",
    "        '--reads', '/Users/daviddylus/Research/read2tree/read2tree/tests/mapper/test3/test_1b.fq /Users/daviddylus/Research/read2tree/read2tree/tests/mapper/test3/test_2b.fq']\n",
    "args = arg_parser.parse_args(argv)\n",
    "print(args)"
   ]
  },
  {
   "cell_type": "code",
   "execution_count": 2,
   "metadata": {
    "collapsed": false,
    "deletable": true,
    "editable": true
   },
   "outputs": [
    {
     "name": "stdout",
     "output_type": "stream",
     "text": [
      "3\n"
     ]
    }
   ],
   "source": [
    "from read2tree.Progress import Progress\n",
    "progress = Progress(args)\n",
    "print(progress.status)"
   ]
  },
  {
   "cell_type": "code",
   "execution_count": 3,
   "metadata": {
    "collapsed": false,
    "deletable": true,
    "editable": true
   },
   "outputs": [
    {
     "name": "stderr",
     "output_type": "stream",
     "text": [
      "Loading files: 5 OGs [00:00, 573.26 OGs/s]"
     ]
    },
    {
     "name": "stdout",
     "output_type": "stream",
     "text": [
      "--- Re-load ogs and find their corresponding DNA seq from output folder ---\n"
     ]
    },
    {
     "name": "stderr",
     "output_type": "stream",
     "text": [
      "\n"
     ]
    }
   ],
   "source": [
    "from read2tree.OGSet import OGSet\n",
    "from read2tree.parser import OMAOutputParser\n",
    "if progress.status >= 1:\n",
    "    ogset = OGSet(args, load=False)\n",
    "else:\n",
    "    oma_output = OMAOutputParser(args)\n",
    "    args.oma_output_path = oma_output.oma_output_path\n",
    "    ogset = OGSet(args, oma_output=oma_output)"
   ]
  },
  {
   "cell_type": "code",
   "execution_count": 4,
   "metadata": {
    "collapsed": false,
    "deletable": true,
    "editable": true
   },
   "outputs": [
    {
     "name": "stderr",
     "output_type": "stream",
     "text": [
      "Re-loading references for mapping from folder: 100%|██████████| 20/20 [00:00<00:00, 4740.67 species/s]"
     ]
    },
    {
     "name": "stdout",
     "output_type": "stream",
     "text": [
      "--- Generating reference for mapping from folder ---\n"
     ]
    },
    {
     "name": "stderr",
     "output_type": "stream",
     "text": [
      "\n"
     ]
    }
   ],
   "source": [
    "from read2tree.ReferenceSet import ReferenceSet\n",
    "if progress.status >= 2:\n",
    "    reference = ReferenceSet(args, load=False)\n",
    "else:\n",
    "    reference = ReferenceSet(args, og_set=ogset.ogs, load=True)"
   ]
  },
  {
   "cell_type": "code",
   "execution_count": 5,
   "metadata": {
    "collapsed": false,
    "deletable": true,
    "editable": true,
    "scrolled": false
   },
   "outputs": [
    {
     "name": "stderr",
     "output_type": "stream",
     "text": [
      "Loading consensus read mappings : 100%|██████████| 6/6 [00:00<00:00, 5381.91 species/s]"
     ]
    },
    {
     "name": "stdout",
     "output_type": "stream",
     "text": [
      "--- Retrieve mapped consensus sequences ---\n"
     ]
    },
    {
     "name": "stderr",
     "output_type": "stream",
     "text": [
      "\n"
     ]
    }
   ],
   "source": [
    "# %load_ext autoreload\n",
    "#%autoreload\n",
    "from read2tree.Mapper import Mapper\n",
    "if progress.status >= 3:\n",
    "    mapper = Mapper(args, og_set=ogset.ogs, load=False)\n",
    "else:\n",
    "    mapper = Mapper(args, ref_set=reference.ref, og_set=ogset.ogs)"
   ]
  },
  {
   "cell_type": "code",
   "execution_count": 6,
   "metadata": {
    "collapsed": false,
    "deletable": true,
    "editable": true
   },
   "outputs": [
    {
     "name": "stderr",
     "output_type": "stream",
     "text": [
      "Adding mapped seq to OG: 100%|██████████| 5/5 [00:00<00:00, 2602.89 OGs/s]"
     ]
    },
    {
     "name": "stdout",
     "output_type": "stream",
     "text": [
      "--- Add inferred mapped sequence back to OGs ---\n"
     ]
    },
    {
     "name": "stderr",
     "output_type": "stream",
     "text": [
      "\n"
     ]
    }
   ],
   "source": [
    "new_ogs = ogset.add_mapped_seq_v2(mapper.og_records)"
   ]
  },
  {
   "cell_type": "code",
   "execution_count": null,
   "metadata": {
    "collapsed": false,
    "deletable": true,
    "editable": true
   },
   "outputs": [],
   "source": [
    "bla = ['x','a','y','d']\n",
    "blub = ['y','a','d','a']\n",
    "rem = ['x','a']\n",
    "ind = []\n",
    "for i,letter in enumerate(zip(bla,blub)):\n",
    "    print(letter[0])\n",
    "    if letter[0] in rem:\n",
    "        ind.append(i)\n",
    "        \n",
    "print([i for j, i in enumerate(bla) if j not in ind])\n",
    "# print(zip(bla,blub)[0])"
   ]
  },
  {
   "cell_type": "code",
   "execution_count": null,
   "metadata": {
    "collapsed": false,
    "deletable": true,
    "editable": true
   },
   "outputs": [],
   "source": [
    "%reload_ext autoreload \n",
    "%autoreload 2 \n",
    "from read2tree import Aligner\n",
    "alignments = Aligner.Aligner(args, ogset.mapped_ogs)"
   ]
  },
  {
   "cell_type": "code",
   "execution_count": null,
   "metadata": {
    "collapsed": false,
    "deletable": true,
    "editable": true
   },
   "outputs": [],
   "source": [
    "concat_alignment = alignments.concat_alignment()"
   ]
  },
  {
   "cell_type": "code",
   "execution_count": null,
   "metadata": {
    "collapsed": false,
    "deletable": true,
    "editable": true
   },
   "outputs": [],
   "source": [
    "from read2tree import TreeInference\n",
    "tree = TreeInference.TreeInference(args, concat_alignment=concat_alignment)"
   ]
  },
  {
   "cell_type": "code",
   "execution_count": null,
   "metadata": {
    "collapsed": false,
    "deletable": true,
    "editable": true
   },
   "outputs": [],
   "source": [
    "print(tree.tree)"
   ]
  },
  {
   "cell_type": "code",
   "execution_count": null,
   "metadata": {
    "collapsed": false,
    "deletable": true,
    "editable": true
   },
   "outputs": [],
   "source": [
    "import re\n",
    "bla = 'bascdd [KADO]'\n",
    "re.search('^(.*?)\\[(.*)\\]', '', bla)"
   ]
  },
  {
   "cell_type": "code",
   "execution_count": null,
   "metadata": {
    "collapsed": true,
    "deletable": true,
    "editable": true
   },
   "outputs": [],
   "source": [
    "import pyopa\n"
   ]
  },
  {
   "cell_type": "code",
   "execution_count": null,
   "metadata": {
    "collapsed": true,
    "deletable": true,
    "editable": true
   },
   "outputs": [],
   "source": []
  }
 ],
 "metadata": {
  "kernelspec": {
   "display_name": "Python 3",
   "language": "python",
   "name": "python3"
  },
  "language_info": {
   "codemirror_mode": {
    "name": "ipython",
    "version": 3
   },
   "file_extension": ".py",
   "mimetype": "text/x-python",
   "name": "python",
   "nbconvert_exporter": "python",
   "pygments_lexer": "ipython3",
   "version": "3.5.1"
  }
 },
 "nbformat": 4,
 "nbformat_minor": 2
}
