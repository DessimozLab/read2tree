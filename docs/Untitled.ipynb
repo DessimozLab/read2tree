{
 "cells": [
  {
   "cell_type": "markdown",
   "metadata": {
    "deletable": true,
    "editable": true
   },
   "source": [
    "## This is a debuging ipython notebook"
   ]
  },
  {
   "cell_type": "code",
   "execution_count": null,
   "metadata": {
    "collapsed": false,
    "deletable": true,
    "editable": true
   },
   "outputs": [],
   "source": [
    "%load_ext autoreload\n",
    "import argparse\n",
    "import warnings\n",
    "warnings.filterwarnings('ignore')\n",
    "\n",
    "arg_parser = argparse.ArgumentParser()\n",
    "        \n",
    "    # # Add standard arguments\n",
    "    # if not is_standalone:\n",
    "    #     # If standalone, set in parser.\n",
    "arg_parser.add_argument('--output_path', default='.',\n",
    "                                help='[Default is current directory] Path to '\n",
    "                                     'output directory.')\n",
    "arg_parser.add_argument('--version', action='version',\n",
    "                            help='Show programme\\'s version number and exit.',\n",
    "                            version='0.1')\n",
    "\n",
    "arg_parser.add_argument('--standalone_path', default='/Users/daviddylus/Research/pore2tree/reference_datasets/Dataset1/',\n",
    "                            help='[Default is current directory] Path to '\n",
    "                                 'oma standalone directory.', required=True)\n",
    "arg_parser.add_argument('--remove_species', default=None,\n",
    "                            help='Remove species present in dataset and only do analysis on '\n",
    "                                 'subset of species')\n",
    "\n",
    "\n",
    "arg_parser.add_argument('--ref_og_aa_folder', default='.',\n",
    "                            help='Path to preselected og_aa folder')\n",
    "\n",
    "arg_parser.add_argument('--single_mapping', default=None,\n",
    "                            help='Single species file allowing to map in a job array.')\n",
    "\n",
    "arg_parser.add_argument('--threads', type=int, default=None,\n",
    "                            help='Number of threads for the mapping using ngm / ngmlr!')\n",
    "\n",
    "\n",
    "\n",
    "    # Arguments to generate the reference\n",
    "arg_parser.add_argument('-r', '--reference', action='store_true',\n",
    "                            help='Just generate the reference dataset for mapping')\n",
    "arg_parser.add_argument('--min_species', type=int, default=30,\n",
    "                            help='Min number of species in selected orthologous groups. \\\n",
    "                            If not selected it will be estimated such that around 1000 OGs are available.')\n",
    "arg_parser.add_argument('--dna_reference', default='/Volumes/Untitled/eukaryotes.cdna.fa',\n",
    "                            help='Reference fasta file that contains nucleotide sequences.')\n",
    "\n",
    "    # Arguments to map the reads\n",
    "arg_parser.add_argument('--ref_folder', default=None,\n",
    "                            help='Folder containing reference files with sequences sorted by species.')\n",
    "arg_parser.add_argument('--reads', default='/Users/daviddylus/Research/pore2tree/fritz_scripts/pipeline/Nano_reads/ERR1877969.fastq',\n",
    "                            help='Reads to be mapped to reference.')\n",
    "# arg_parser.add_argument('--reads', nargs='2',default=None, help='Reads to be mapped to reference.')\n",
    "\n",
    "\n",
    "# Parse the arguments.\n",
    "# reference = ['--ref_folder', '/Users/daviddylus/Research/pore2tree/pore2tree/tests/mapper/test1/db/']\n",
    "argv = ['--output_path','/Users/daviddylus/Desktop/test1/','--standalone_path', '/Users/daviddylus/Research/read2tree/read2tree/tests/oma_standalone/', '--min_species', \n",
    "        '5', '--dna_reference', '/Users/daviddylus/mnt/omabrowser/OmaServer.h5', '--remove_species', 'CANAW,YEAST',\n",
    "        '--reads', '/Users/daviddylus/Research/read2tree/read2tree/tests/mapper/test3/test_1a.fq /Users/daviddylus/Research/read2tree/read2tree/tests/mapper/test3/test_2a.fq']\n",
    "args = arg_parser.parse_args(argv)\n",
    "print(args)"
   ]
  },
  {
   "cell_type": "code",
   "execution_count": 2,
   "metadata": {
    "collapsed": false,
    "deletable": true,
    "editable": true
   },
   "outputs": [
    {
     "name": "stdout",
     "output_type": "stream",
     "text": [
      "0\n"
     ]
    }
   ],
   "source": [
    "from read2tree.Progress import Progress\n",
    "progress = Progress(args)\n",
    "print(progress.status)"
   ]
  },
  {
   "cell_type": "code",
   "execution_count": 3,
   "metadata": {
    "collapsed": false,
    "deletable": true,
    "editable": true
   },
   "outputs": [
    {
     "name": "stderr",
     "output_type": "stream",
     "text": [
      "Pre-filter files:   2%|▏         | 144/6428 [00:00<00:04, 1439.91 OGs/s]"
     ]
    },
    {
     "name": "stdout",
     "output_type": "stream",
     "text": [
      "--- Load OGs with min 5 species from oma standalone! ---\n"
     ]
    },
    {
     "name": "stderr",
     "output_type": "stream",
     "text": [
      "Pre-filter files: 100%|██████████| 6428/6428 [00:02<00:00, 2862.55 OGs/s]\n"
     ]
    },
    {
     "name": "stdout",
     "output_type": "stream",
     "text": [
      "--- Load ogs and find their corresponding DNA seq from /Users/daviddylus/mnt/omabrowser/OmaServer.h5 ---\n",
      "['ACIS3', 'CALLD', 'AERPE', 'DESK1', 'DESM0', 'IGNH4', 'IGNAA', 'STAHD', 'STAMF', 'THEC1', 'THEAM', 'HYPBU', 'PYROC', 'PYRF1', 'FERFK', 'ACIHW', 'METCR', 'METS5', 'SULAC', 'SULIH', 'SULID', 'SULIL', 'SULIM', 'SULIA', 'SULIK', 'SULIR', 'SULIY', 'SULIN', 'SULS9', 'SULSO', 'SULTO', 'THEPD', 'CALMQ', 'PYRAE', 'PYRAR', 'PYRCJ', 'PYRIL', 'PYRNV', 'PYROT', 'THETK', 'THEU7', 'VULDI', 'VULM7', 'CREAS', 'ARCFU', 'ARCPA', 'ARCVS', 'FERPA', 'HALJB', 'HALHT', 'HALMA', 'HALS3', 'HALSA', 'HALMD', 'HALUD', 'NATM8', 'NATPD', 'HALMT', 'HALVD', 'HALBP', 'HALWD', 'HALWC', 'HALLT', 'HALXS', 'HALTV', 'HALRX', 'NATMM', 'NATP1', 'NATSJ', 'NATGS', 'METLA', 'METPW', 'METSL', 'METRM', 'METS3', 'METST', 'METTM', 'METTH', 'METFV', 'METFA', 'METIM', 'METJA', 'METSF', 'METVM', 'METIK', 'META3', 'METMI', 'METM5', 'METM6', 'METM7', 'METMP', 'METVS', 'METV3', 'METOI', 'METAR', 'METCZ', 'METPS', 'METLZ', 'METBM', 'METMJ', 'METP4', 'METB6', 'METFS', 'METPE', 'METHJ', 'METCG', 'METH6', 'METTP', 'METBU', 'METEZ', 'METMS', 'METHD', 'METZD', 'METAC', 'METBF', 'METMA', 'METKA', 'PYRAB', 'PYRFU', 'PYRHO', 'PYRSN', 'PYRYC', 'THEBM', 'THEGJ', 'THEKO', 'THELN', 'THEON', 'THESM', 'THES4', 'PICTO', 'THEAC', 'THEVO', 'ACIB4', 'ACIS0', 'KORCO', 'NANEQ', 'NANS0', 'NANSJ', 'CENSY', 'NITMS', 'NITGG', 'ACIC5', 'KORVE', 'GRAMM', 'GRATM', 'TERRK', 'TERSS', 'CHLTF', 'SOLUE', 'ACIFD', 'ACIC1', 'THEBD', 'ARCHD', 'MOBCV', 'BIFAA', 'BIFAR', 'BIFA0', 'BIFAB', 'BIFLB', 'BIFAS', 'BIFAV', 'BIFAP', 'BIFBP', 'BIFBS', 'BIFBA', 'BIFDB', 'BIFLD', 'BIFLO', 'BIFL1', 'BIFLS', 'BIFL2', 'BIFLM', 'BIFLJ', 'GARV4', 'GARV3', 'GARVH', 'CATAD', 'ATOPD', 'OLSUV', 'CORGP', 'CRYCD', 'EGGLE', 'SLAHD', 'CORA7', 'CORD2', 'CORD3', 'CORD7', 'CORDI', 'CORDD', 'CORDH', 'CORDJ', 'CORDK', 'CORDL', 'CORDW', 'CORDV', 'COREF', 'CORGL', 'CORGK', 'CORGB', 'CORJK', 'CORK4', 'CORP1', 'CORP2', 'CORPF', 'CORP9', 'CORRG', 'CORUB', 'CORU7', 'CORVD', 'GORB4', 'GORPV', 'AMYSD', 'MYCA9', 'MYCA1', 'MYCPA', 'MYCIA', 'MYCCN', 'MYCSR', 'MYCGI', 'MYCLB', 'MYCLE', 'MYCMM', 'MYCRN', 'MYCSD', 'MYCS2', 'MYCSJ', 'MYCSK', 'MYCSS', 'MYCA0', 'MYCBO', 'MYCBP', 'MYCBT', 'MYCCP', 'MYCTA', 'MYCTU', 'MYCTC', 'MYCTD', 'MYCTF', 'MYCTK', 'MYCUA', 'MYCVP', 'NOCCG', 'NOCFA', 'RHOE4', 'RHOE1', 'RHOJR', 'RHOOB', 'SEGRD', 'TSUPD', 'FRAAA', 'FRASC', 'FRASN', 'FRASU', 'FRADG', 'BLASD', 'GEOOG', 'MODMB', 'STANL', 'KINRD', 'BEUC1', 'CELFA', 'CELFN', 'CELGA', 'BRAFD', 'KYTSD', 'JONDD', 'CLAM3', 'CLAMS', 'LEIXX', 'MICTS', 'ARTAR', 'ARTAT', 'ARTCA', 'ARTPP', 'ARTS2', 'KOCRD', 'MICLC', 'RENSM', 'ROTDC', 'ROTMD', 'XYLCX', 'SANKS', 'TROW8', 'TROWT', 'ACTM4', 'ACTS5', 'MICAI', 'MICSL', 'SALAI', 'SALTO', 'VERMA', 'NAKMY', 'KRIFD', 'NOCSJ', 'MICPN', 'PROA4', 'PROAC', 'PROAS', 'PROFC', 'PROPF', 'ACTMD', 'AMYMS', 'AMYMU', 'PSEUX', 'SACVD', 'SACEN', 'SACES', 'RUBXD', 'KITSK', 'STRAW', 'STRBB', 'STREN', 'STRCO', 'STRGG', 'STRHJ', 'STRFA', 'STRSW', 'STRVP', 'NOCAA', 'NOCDD', 'THEFY', 'STRRD', 'THECD', 'CONWI', 'AQUAE', 'HYDTT', 'HYDS0', 'THEAH', 'PERMH', 'SULAA', 'SULSY', 'DESTD', 'THEA1', 'RHOM4', 'SALRD', 'SALRM', 'BACF6', 'BACFN', 'BACFR', 'BACT6', 'BACSH', 'BACTN', 'BACV8', 'ODOSD', 'PALPW', 'PARD8', 'PORAD', 'PORG3', 'PORGI', 'TANFA', 'PREDF', 'PREI7', 'PREMB', 'PRER2', 'ALIFI', 'AZOPC', 'AMOA5', 'BELBD', 'CYCMS', 'ECHVK', 'CYTH3', 'DYAFD', 'EMTOG', 'FLELS', 'LEAB4', 'RUNSL', 'SPILD', 'MARTH', 'BLASB', 'BLASP', 'FLUTR', 'OWEHD', 'AEQSU', 'CAPCC', 'CAPOD', 'CELAD', 'CELLC', 'CROAH', 'DOKS4', 'FLABF', 'FLACA', 'FLAIG', 'FLAJ1', 'FLAPJ', 'GRAFK', 'LACS5', 'LEEBM', 'MARSH', 'MURRD', 'NONDD', 'ORNRL', 'PSYTT', 'RIEAR', 'ROBBH', 'WEEVC', 'ZOBGA', 'ZUNPS', 'FLAB3', 'SULMC', 'SULMD', 'SULMW', 'SULMS', 'CHIPD', 'NIAKG', 'HALH1', 'SAPGL', 'PEDHD', 'PSESL', 'SOLCM', 'SPHS2', 'CALEA', 'CHLMU', 'CHLPE', 'CHLPN', 'CHLPP', 'CHLTR', 'CHLTC', 'CHLT4', 'CHLTA', 'CHLTJ', 'CHLTZ', 'CHLTD', 'CHLTL', 'CHLT1', 'CHLT5', 'CHLTS', 'CHLTG', 'CHLT0', 'CHLT9', 'CHLT7', 'CHLT2', 'CHLTB', 'CHLP6', 'CHLP1', 'CHLAB', 'CHLCV', 'CHLFF', 'PARUW', 'PARAV', 'SIMNZ', 'WADCW', 'CHLP8', 'CHLTE', 'CHLCH', 'CHLL2', 'CHLPB', 'CHLPD', 'CHLPM', 'CHLT3', 'CHLL7', 'PELPB', 'PROA2', 'ANATU', 'CALAS', 'CHLAD', 'CHLAA', 'CHLSY', 'ROSCS', 'ROSS1', 'HERA2', 'DEHMB', 'DEHM1', 'DEHMC', 'DEHMG', 'DEHMV', 'DEHLB', 'SPHTD', 'THERP', 'DESIS', 'CLOAI', 'GLOVI', 'ANACC', 'ANAVT', 'NOSP7', 'NOSS7', 'NOSS1', 'NOSA0', 'ACAM1', 'ATETH', 'CYAAP', 'CYASC', 'CYAGP', 'CYAA5', 'CYAP7', 'CYAP4', 'CYAP2', 'CYAP8', 'CYAP0', 'HALP7', 'MICAN', 'SYNP6', 'SYNP2', 'SYNS7', 'SYNS3', 'SYNSC', 'SYNS9', 'SYNJB', 'SYNJA', 'SYNR3', 'SYNPW', 'SYNPX', 'SYNY3', 'THEEB', 'ARTPN', 'LYNSP', 'TRIEI', 'STAC7', 'PROMS', 'PROM4', 'PROM2', 'PROM0', 'PROM3', 'PROM9', 'PROMM', 'PROM5', 'PROM1', 'PROMT', 'PROMA', 'PROMP', 'CALNY', 'DEFDS', 'DENA2', 'FLESM', 'DEIDV', 'DEIGD', 'DEIGI', 'DEIML', 'DEIPD', 'DEIPM', 'DEIRA', 'TRURR', 'MARHT', 'MEIRD', 'MEISD', 'OCEP5', 'THET2', 'THET8', 'THETG', 'DICT6', 'DICTD', 'ELUMP', 'UNCTG', 'FIBSS', 'ALIAT', 'ALIAD', 'KYRT2', 'AMPXN', 'ANOFW', 'BACAS', 'BACAN', 'BACAA', 'BACAC', 'BACA1', 'BACCJ', 'BACC3', 'BACC7', 'BACC0', 'BACC1', 'BACCR', 'BACC4', 'BACC2', 'BACCQ', 'BACCZ', 'BACAI', 'BACSK', 'BACC6', 'BACCN', 'BACHD', 'BACLD', 'BACMQ', 'BACMD', 'BACMF', 'BACPE', 'BACP2', 'BACST', 'BACPZ', 'BACPT', 'BACSU', 'BACAH', 'BACT0', 'BACHK', 'BACT1', 'BACWK', 'GEOKA', 'GEOSW', 'GEOS0', 'GEOSY', 'GEOTN', 'GEOTC', 'LYSSC', 'OCEIH', 'EXIAB', 'EXIS2', 'EXISA', 'LISIN', 'LISIP', 'LISM2', 'LISM4', 'LISMH', 'LISML', 'LISMM', 'LISMC', 'LISMF', 'LISMO', 'LISSS', 'LISW6', 'BREBN', 'GEOS4', 'PAEMK', 'PAEP6', 'PAEPS', 'PAESJ', 'PAETH', 'THECK', 'SOLSS', 'BACIE', 'MACCJ', 'STAA4', 'STAAB', 'STAAC', 'STAAG', 'STAAD', 'STAA2', 'STAA9', 'STAAK', 'STAAJ', 'STAA5', 'STAAR', 'STAAS', 'STAAW', 'STAA1', 'STAAM', 'STAAN', 'STAA8', 'STAAE', 'STAAH', 'STAA0', 'STAA3', 'STAAT', 'STAAF', 'STACT', 'STAES', 'STAEQ', 'STAHJ', 'STALH', 'STAPE', 'STAPH', 'STAS1', 'AERUA', 'CARS1', 'ENTF6', 'ENTFO', 'ENTFA', 'ENTFU', 'MELPT', 'MELPD', 'TETHN', 'LACA3', 'LACAC', 'LACAR', 'LACAL', 'LACBA', 'LACBN', 'LACCD', 'LACCB', 'LACCC', 'LACCZ', 'LACCS', 'LACD2', 'LACDA', 'LACDB', 'LACDN', 'LACFC', 'LACF3', 'LACGA', 'LACH4', 'LACJO', 'LACJF', 'LACKZ', 'LACC3', 'LACPL', 'LACPJ', 'LACPS', 'LACRS', 'LACRD', 'LACRJ', 'LACRG', 'LACRL', 'LACRR', 'LACSS', 'LACSC', 'LACS1', 'LACSM', 'PEDCP', 'PEDPA', 'LEUCJ', 'LEUCK', 'LEUGJ', 'LEUGG', 'LEUMM', 'LEUS2', 'OENOB', 'WEIKK', 'LACGT', 'LACGL', 'LACLM', 'LACLN', 'LACLS', 'LACLV', 'LACLA', 'LACLK', 'STRA3', 'STRA1', 'STRA5', 'STRA2', 'STRED', 'STRDG', 'STRE4', 'STREC', 'STRS7', 'STREM', 'STRG1', 'STRG2', 'STRG3', 'STRGC', 'STRIC', 'STRIJ', 'STRMD', 'STRM6', 'STRMU', 'STRMN', 'STROU', 'STRPW', 'STRPX', 'STRZ6', 'STRP7', 'STRPJ', 'STRR6', 'STRPS', 'STRPI', 'STRZJ', 'STRZP', 'STRET', 'STRZT', 'STRZI', 'STRZN', 'STRP4', 'STRP2', 'STRZO', 'STRPN', 'STRP0', 'STRES', 'STRP1', 'STRPB', 'STRPC', 'STRP8', 'STRPD', 'STRPM', 'STRP3', 'STRPQ', 'STRPF', 'STRPZ', 'STRPG', 'STRP6', 'STRE5', 'STREH', 'STRE8', 'STRSV', 'STRSY', 'STRS2', 'STRS4', 'STRGZ', 'STREJ', 'STRSE', 'STRSX', 'STRT2', 'STRTD', 'STRT1', 'STRTN', 'STRU0', 'ALKMQ', 'ALKOO', 'ARTSS', 'CLOAB', 'CLOAE', 'CLOB8', 'CLOB0', 'CLOB1', 'CLOBH', 'CLOBJ', 'CLOBM', 'CLOB6', 'CLOBB', 'CLOBK', 'CLOBA', 'CLOB2', 'CLOBL', 'CLOC7', 'CLOK5', 'CLOLD', 'CLONN', 'CLOPE', 'CLOP1', 'CLOPS', 'CLOSS', 'CLOTE', 'SULAD', 'SULAT', 'THEM7', 'ACEWD', 'EUBLK', 'EUBE2', 'HELMI', 'AGARV', 'BUTPB', 'CELLD', 'CLOSW', 'CLOPH', 'ROSHA', 'OSCVS', 'DESAP', 'DESDL', 'DESHD', 'DESHY', 'DESAJ', 'DESMD', 'DESOD', 'DESAS', 'DESK7', 'DESCC', 'DESRM', 'DESRL', 'PELTS', 'SYNGF', 'THEPJ', 'FILAD', 'CLOSD', 'PEPD6', 'PEPDR', 'ETHHY', 'MAGIU', 'CLOTH', 'CLOTL', 'CLOCE', 'CLOCD', 'RUMA7', 'RUMC1', 'SYMTH', 'SYNWW', 'SYNLT', 'CLOA9', 'HALHG', 'HALPG', 'HALOH', 'ACEAZ', 'HALHC', 'NATTJ', 'CALS4', 'CARHZ', 'MOOTA', 'TEPAE', 'THEIA', 'THEM3', 'THEP3', 'THESX', 'THEPX', 'CALBD', 'CALH1', 'CALKI', 'CALK2', 'CALOO', 'CALOW', 'CALS8', 'THESW', 'THETC', 'THEXL', 'THEOJ', 'MAHA5', 'COPPD', 'ERYRF', 'ACIFV', 'ACIIR', 'SELRL', 'SELS3', 'VEIPT', 'ANAPD', 'FINM2', 'FUSNN', 'ILYPC', 'LEPBD', 'SEBTE', 'STRM9', 'GEMAT', 'IGNAJ', 'MELRP', 'LEPFC', 'LEPFM', 'THEYD', 'PHYMF', 'ISOPI', 'SINAD', 'PIRSD', 'PLAL2', 'RHOBA', 'RUBBR', 'ASTEC', 'BRESC', 'CAUST', 'CAUSK', 'CAUCR', 'CAUCN', 'PHEZH', 'MAGMM', 'PARBH', 'PELSM', 'PELUB', 'BARBK', 'BARC7', 'BARGA', 'BARHE', 'BARQU', 'BART1', 'BARVW', 'BEII9', 'METSB', 'BRADU', 'BRASB', 'BRASO', 'NITHX', 'NITWN', 'OLICO', 'OLICM', 'RHOPA', 'RHOP5', 'RHOPB', 'RHOPS', 'RHOPX', 'RHOP2', 'RHOPT', 'BRUA2', 'BRUA1', 'BRUAB', 'BRUC2', 'BRUM5', 'BRUME', 'BRUMB', 'BRUMC', 'BRUO2', 'BRUSU', 'BRUSI', 'OCHA4', 'HYPDA', 'HYPSM', 'PELHB', 'RHOVT', 'METEA', 'METC4', 'METED', 'METEP', 'METNO', 'METPB', 'METRJ', 'METS4', 'METSZ', 'CHESB', 'MESAW', 'MESCW', 'RHILO', 'AGRSH', 'AGRFC', 'AGRRK', 'AGRVS', 'LIBAP', 'RHIEC', 'RHIE6', 'RHILS', 'RHILW', 'RHIL3', 'RHIFH', 'RHISN', 'RHIME', 'SINMK', 'SINMB', 'SINMM', 'SINMW', 'PARL1', 'AZOC5', 'STAND', 'XANP2', 'HODCD', 'HIRBI', 'HYPNA', 'MARMM', 'DINSH', 'JANSC', 'KETVW', 'KETVY', 'PARDP', 'PHAIB', 'PSEUV', 'RHOCB', 'RHOS4', 'RHOS5', 'RHOS1', 'RHOSK', 'ROSDO', 'ROSLO', 'RUEPO', 'RUEST', 'ACEP3', 'ACICJ', 'ACIMA', 'GLUDA', 'GLUOX', 'GRABC', 'KOMMN', 'AZOL4', 'MAGSA', 'RHOCS', 'RHORT', 'TISMK', 'ANAMF', 'ANAMM', 'ANAPZ', 'EHRCJ', 'EHRCR', 'EHRRG', 'EHRRW', 'NEORI', 'NEOSM', 'WOLTR', 'WOLPP', 'WOLPM', 'WOLWR', 'MIDMI', 'ORITB', 'ORITI', 'RICAE', 'RICAH', 'RICAG', 'RICAC', 'RICB8', 'RICBR', 'RICCK', 'RICCN', 'RICFE', 'RICJY', 'RICM5', 'RICMS', 'RICPT', 'RICPU', 'RICP3', 'RICPR', 'RICPP', 'RICR3', 'RICRO', 'RICRS', 'RICS1', 'RICTY', 'ERYLH', 'NOVAD', 'SPHJU', 'SPHWW', 'SPHAL', 'ZYMMA', 'ZYMMO', 'ZYMMN', 'ZYMMT', 'MICAA', 'POLGS', 'PUNMI', 'ACHXA', 'ADVKW', 'BORA1', 'BORBR', 'BORBM', 'BORPA', 'BORP1', 'BORPC', 'BORPE', 'BORPD', 'PUSST', 'TAYEM', 'BURCM', 'BURA4', 'BURCJ', 'BURCA', 'BURCH', 'BURCC', 'BURL3', 'BURM1', 'BURVG', 'BURGS', 'BURGB', 'BURMA', 'BURM9', 'BURM7', 'BURMS', 'BURP8', 'BURPP', 'BURP0', 'BURP1', 'BURP6', 'BURPS', 'BURRH', 'BURSC', 'BURSG', 'BURTA', 'BURXL', 'CUPMC', 'CUPNH', 'CUPNN', 'CUPPJ', 'CUPTR', 'POLSQ', 'POLNS', 'RALP1', 'RALPJ', 'RALSL', 'RALSO', 'RALS8', 'ACIAP', 'ACIAC', 'ACIET', 'ACISJ', 'ALIDK', 'COMT2', 'DELAS', 'DELSC', 'POLNA', 'POLSJ', 'RAMTT', 'RHOFT', 'VARPE', 'VARPS', 'VEREI', 'ZINIC', 'COLFT', 'HERSS', 'HERAR', 'JANMA', 'LEPCP', 'METPP', 'RUBGI', 'THIK1', 'GALCS', 'SIDLE', 'THIDA', 'METFK', 'METML', 'METGS', 'METS6', 'CHRVO', 'LARHH', 'PSEUL', 'NEIG1', 'NEIG2', 'NEIML', 'NEIMA', 'NEIMW', 'NEIMB', 'NEIM7', 'NEIMH', 'NEIMG', 'NEIMM', 'NEIMP', 'NEIMO', 'NEIMN', 'NEIM0', 'NEIM8', 'NEIMF', 'NITEU', 'NITEC', 'NITSI', 'NITMU', 'AROAE', 'AZOSB', 'DECSP', 'DECAR', 'THASP', 'ACCPU', 'TREPP', 'ACICS', 'ACIF2', 'ACIF5', 'AERHH', 'AERS4', 'AERVB', 'OCESG', 'TOLAT', 'ALTMB', 'ALTMS', 'ALTME', 'ALTMD', 'ALTSS', 'MARAH', 'MARHV', 'COLP3', 'FERBD', 'IDILO', 'PSEA6', 'PSEHT', 'PSEU9', 'PSYIN', 'SHEAM', 'SHEB5', 'SHEB8', 'SHEB9', 'SHEB2', 'SHEB6', 'SHEDO', 'SHEFN', 'SHEHH', 'SHELP', 'SHEON', 'SHEPA', 'SHEPW', 'SHEP2', 'SHEPC', 'SHESH', 'SHESA', 'SHESM', 'SHESR', 'SHESW', 'SHEVD', 'SHEWM', 'DICNV', 'CELJU', 'SACD2', 'SIMAS', 'TERTT', 'ALLVD', 'NITHN', 'NITOC', 'NITWC', 'THIV6', 'ALKEH', 'HALHL', 'THISK', 'THISH', 'HALNC', 'BUCAI', 'BUCA5', 'BUCAJ', 'BUCAF', 'BUCA0', 'BUCAT', 'BUCBP', 'BUCCC', 'BUCAP', 'MOREP', 'RIEPU', 'CITK8', 'CITRI', 'CROS8', 'CROTZ', 'DICD3', 'DICD5', 'DICDC', 'DICZE', 'EDWI9', 'EDWTE', 'EDWTF', 'ENTAK', 'ENTAL', 'ENTCC', 'ENTLS', 'ENT38', 'ERWAE', 'ERWAC', 'ERWBE', 'ERWP6', 'ERWPE', 'ERWSE', 'ERWT9', 'ECOLX', 'ECOC1', 'ECOC2', 'ECO55', 'ECOD1', 'ECOKO', 'ECOLW', 'ECOBB', 'ECOBD', 'ECOLI', 'ECODH', 'ECOBW', 'ECOSE', 'ECOSM', 'ECOUM', 'ECOUT', 'ECOBR', 'ECOLC', 'ECO10', 'ECO1E', 'ECO1A', 'ECO27', 'ECO24', 'ECOS5', 'ECO57', 'ECO5E', 'ECO5T', 'ECOLU', 'ECOKI', 'ECOK1', 'ECO26', 'ECO44', 'ECO45', 'ECOCB', 'ECOL6', 'ECOL5', 'ECOH1', 'ECO7I', 'ECO8A', 'ECO81', 'ECO8N', 'ECOHS', 'ECOAB', 'ESCF3', 'KLEOK', 'KLEP3', 'KLEP7', 'KLEPH', 'KLEVT', 'PANAA', 'PANAM', 'PANSA', 'PANVC', 'PECAS', 'PECCP', 'PECSS', 'PECWW', 'PHOAA', 'PHOLL', 'PROMH', 'PROSM', 'RAHAC', 'RAHSY', 'SALBC', 'SALDC', 'SALA4', 'SALCH', 'SALPS', 'SALHS', 'SALPB', 'SALPC', 'SALSV', 'SALEP', 'SALG2', 'SALNS', 'SALPK', 'SALPA', 'SALTI', 'SALT4', 'SALTD', 'SALTY', 'SALT1', 'SALTS', 'SALAR', 'SERFO', 'SERSA', 'SERP5', 'SHIB3', 'SHIBS', 'SHIDS', 'SHIFL', 'SHIF8', 'SHIF2', 'SHISS', 'SHIBC', 'SODGM', 'WIGBR', 'XENBS', 'XENNA', 'YERE8', 'YERE1', 'YERE3', 'YERPE', 'YERPD', 'YERP1', 'YERPP', 'YERPZ', 'YERPG', 'YERPA', 'YERPN', 'YERPH', 'YERPS', 'YERPB', 'YERP3', 'YERPY', 'BLOFL', 'BLOPB', 'BLOVB', 'HAMD5', 'ENTBF', 'COXB2', 'COXB1', 'COXBN', 'COXBR', 'COXBU', 'LEGLN', 'LEGPC', 'LEGPL', 'LEGPA', 'LEGP2', 'LEGPH', 'TATMI', 'METCA', 'METAA', 'META2', 'METMM', 'ALCBS', 'ALCDB', 'KANKD', 'HAHCH', 'CARRP', 'CHRSD', 'HALED', 'MARM1', 'MARMS', 'NEPCE', 'ACTPJ', 'ACTP2', 'ACTP7', 'ACTSZ', 'AGGAD', 'AGGAN', 'MANSM', 'GALAU', 'HAEDU', 'HAEI1', 'HAEI8', 'HAEIN', 'HAEIE', 'HAEIG', 'HAEI2', 'HAEI6', 'HAEP3', 'HAEPS', 'HAES1', 'HISS2', 'PASMH', 'PASMU', 'ACIAD', 'ACIB1', 'ACIB5', 'ACIB3', 'ACIBC', 'ACIBT', 'ACIBY', 'ACIBS', 'ACIBD', 'ACICP', 'ACISD', 'MORCR', 'PSYA2', 'PSYCK', 'PSYWF', 'AZOVD', 'PSEAE', 'PSEA8', 'PSEA7', 'PSEAB', 'PSEBN', 'PSEE4', 'PSEPF', 'PSEFS', 'PSEF1', 'PSEMN', 'PSEMY', 'PSEF5', 'PSEPB', 'PSEP1', 'PSEPG', 'PSEPK', 'PSEPW', 'PSE14', 'PSEU5', 'PSEUT', 'PSEU2', 'PSESM', 'FRANT', 'FRAP2', 'FRACN', 'FRACF', 'FRATN', 'FRATF', 'FRATH', 'FRATO', 'FRATM', 'FRAT1', 'FRATE', 'FRATT', 'FRATW', 'CYCSP', 'METFJ', 'METNJ', 'THICA', 'THICR', 'VIBF1', 'VIBFM', 'ALISL', 'PHOPR', 'VIBA7', 'VIBAE', 'VIBCB', 'VIBCH', 'VIBCJ', 'VIBC3', 'VIBCM', 'VIBFN', 'VIBPA', 'VIBTL', 'VIBVU', 'VIBVM', 'VIBVY', 'FRAAD', 'LYSEN', 'PSEUP', 'PSEUU', 'STRMK', 'STRM5', 'XANAP', 'XANC8', 'XANCP', 'XANCB', 'XANAC', 'XANC5', 'XANOR', 'XANOM', 'XANOP', 'XYLFA', 'XYLFM', 'XYLF2', 'XYLFT', 'XYLFG', 'BAUCH', 'VESOH', 'RUTMC', 'BDEBA', 'HALMS', 'DESB2', 'DESAA', 'DESAH', 'DESTT', 'DESOH', 'DESPD', 'DESSD', 'DESPS', 'DESAT', 'DESRD', 'DESBD', 'DESAO', 'DESAG', 'DESDA', 'DESMR', 'DESPC', 'DESAD', 'DESVH', 'DESVM', 'DESVR', 'DESVV', 'LAWIP', 'HIPMA', 'GEOBB', 'GEODF', 'GEOLS', 'GEOMG', 'GEOS8', 'GEOSM', 'GEOSL', 'GEOSK', 'GEOUR', 'PELCD', 'PELPD', 'ANAD2', 'ANADE', 'ANADF', 'ANASK', 'STIAD', 'CORCM', 'MYXFH', 'MYXSD', 'MYXXD', 'HALO1', 'SORC5', 'DESAR', 'DESTA', 'SYNAS', 'SYNFM', 'ARCB4', 'ARCNC', 'CAMC1', 'CAMC5', 'CAMFF', 'CAMHC', 'CAMJR', 'CAMJD', 'CAMJI', 'CAMJS', 'CAMJM', 'CAMJC', 'CAMJE', 'CAMJJ', 'CAMJ8', 'CAMLR', 'SULBS', 'SULD5', 'HELAH', 'HELBC', 'HELCP', 'HELFC', 'HELHP', 'HELM1', 'HELPF', 'HELP1', 'HELP5', 'HELP9', 'HELPY', 'HELPB', 'HELP3', 'HELPC', 'HELPI', 'HELPK', 'HELPL', 'HELPQ', 'HELPG', 'HELP4', 'HELPH', 'HELP7', 'HELPJ', 'HELPR', 'HELP2', 'HELPP', 'HELPM', 'HELPS', 'HELPV', 'SULKY', 'SULAO', 'SULDN', 'WOLSU', 'NITSE', 'NAUPA', 'NITSB', 'SULNB', 'BRAHW', 'BRAIP', 'BRAM5', 'BRAP9', 'LEPBP', 'LEPBA', 'LEPBJ', 'LEPBL', 'LEPIC', 'LEPIN', 'LEPII', 'TURPD', 'BORCA', 'BORDL', 'BORHD', 'BORRA', 'BORT9', 'BORAP', 'BORBP', 'BORBU', 'BORBN', 'BORBZ', 'SPHCD', 'SPHGB', 'SPHPG', 'SPIAZ', 'SPISS', 'SPITD', 'SPITZ', 'TREAZ', 'TREBD', 'TRECH', 'TREDE', 'TREPA', 'TREPC', 'TREPS', 'TREPD', 'TREPM', 'TREPU', 'TREPZ', 'TRES6', 'AMICL', 'ANAMD', 'THEAS', 'THELD', 'ACHLI', 'PHYMT', 'AYWBP', 'ONYPE', 'PHYAS', 'MESFL', 'MYCA6', 'MYCAP', 'MYCA5', 'MYCBG', 'MYCBH', 'MYCCT', 'MYCCR', 'MYCCM', 'MYCC1', 'MYCFP', 'MYCFJ', 'MYCFM', 'MYCGF', 'MYCGH', 'MYCGA', 'MYCGE', 'MYCHN', 'MYCHL', 'MYCHI', 'MYCHP', 'MYCH1', 'MYCH2', 'MYCH7', 'MYCHJ', 'MYCHH', 'MYCHM', 'MYCL9', 'MYCLG', 'MYCMO', 'MYCMG', 'MYCMS', 'MYCPE', 'MYCPB', 'MYCPN', 'MYCPU', 'MYCPK', 'MYCSL', 'MYCS3', 'MYCS5', 'UREP2', 'UREPA', 'UREU1', 'THEID', 'THEGP', 'KOSOT', 'MARPK', 'PETMO', 'FERNB', 'FERPD', 'THEAB', 'THEM4', 'PSELT', 'THEMA', 'THENR', 'THENN', 'THEP1', 'THESQ', 'OPITP', 'CORAD', 'AKKM8', 'METI4', 'THET1', 'PLAF7', 'PLAVS', 'BABBI', 'BABBO', 'BABMR', 'CRYMR', 'CRYPV', 'CRYPI', 'EIMAC', 'EIMMA', 'EIMTE', 'HAMHA', 'TOXGO', 'GRENI', 'VITBC', 'ICHMU', 'TETTS', 'PARTE', 'PERM5', 'ENTDS', 'ENTHI', 'ENTNP', 'DICDI', 'DICPU', 'GUITH', 'LEIDB', 'LEIIN', 'LEIMA', 'LEIMU', 'LEIBR', 'TRYB2', 'GIAIB', 'GIAIC', 'EMIHU', 'NAEGR', 'MONBE', 'BATDE', 'BATDJ', 'SPIPN', 'SCHPO', 'TUBMM', 'ASPAC', 'ASPCL', 'ASPFN', 'ASPOR', 'ASPTN', 'EMEND', 'EMENI', 'EURHE', 'ASPFU', 'NEOFI', 'PENCH', 'PENRW', 'TALSN', 'PASFU', 'ZYMTR', 'AURPU', 'LEPMJ', 'PHAND', 'PHANO', 'COCLU', 'BLUGR', 'BOTFB', 'SCLS1', 'COLGR', 'COLSU', 'VERDA', 'HYPAI', 'HYPJE', 'HYPVG', 'FUSO4', 'GIBZA', 'NECHA', 'CRYPA', 'MAGGR', 'THIHE', 'NEUCR', 'NEUT9', 'CANAW', 'LODEL', 'DEBHA', 'PICST', 'SPAPN', 'CANTE', 'YARLI', 'PICPG', 'DEKBR', 'ASHGO', 'KLULA', 'CANGA', 'YEAST', 'ZYGRO', 'AURST', 'PUNST', 'GLOTR', 'FOMME', 'POSPM', 'TRAVS', 'WOLCO', 'FOMPI', 'PHACH', 'PHLGI', 'DICSQ', 'HETAN', 'STEHR', 'PIRID', 'AGABI', 'COPCI', 'SCHCO', 'LACBI', 'CONPW', 'CRYGA', 'CRYNJ', 'TREME', 'WALSE', 'MIXOS', 'PUCGR', 'PUCGT', 'USTHO', 'USTMA', 'MUCCI', 'RHIOR', 'PHYBL', 'ENCCU', 'BRAFL', 'PETMA', 'LEPOC', 'GASAC', 'TAKRU', 'TETNG', 'ORYLA', 'POEFO', 'XIPMA', 'ORENI', 'GADMO', 'ASTMX', 'DANRE', 'LATCH', 'ORNAN', 'PROCA', 'LOXAF', 'ECHTE', 'RABIT', 'OCHPR', 'CAVPO', 'DIPOR', 'MOUSE', 'RATNO', 'ICTTR', 'CHLSB', 'MACMU', 'PAPAN', 'GORGO', 'HUMAN', 'PANTR', 'PONAB', 'NOMLE', 'CALJA', 'TARSY', 'MICMU', 'OTOGA', 'TUPBE', 'CANLF', 'MUSPF', 'AILME', 'FELCA', 'TURTR', 'BOVIN', 'SHEEP', 'PIGXX', 'VICPA', 'PTEVA', 'MYOLU', 'ERIEU', 'SORAR', 'HORSE', 'DASNO', 'CHOHO', 'SARHA', 'MONDO', 'MACEU', 'ANAPL', 'MELGA', 'CHICK', 'FICAL', 'TAEGU', 'PELSI', 'ANOCA', 'XENTR', 'CIOIN', 'CIOSA', 'STRPU', 'SCHMA', 'PRIPA', 'STRRB', 'CAEBE', 'CAEBR', 'CAEEL', 'CAEJA', 'CAERE', 'BRUMA', 'LOALO', 'ONCVO', 'TRISP', 'SARSC', 'TETUR', 'IXOSC', 'STRMM', 'DAPPU', 'LEPSM', 'BOMMO', 'DANPL', 'HELME', 'MELCN', 'DENPD', 'TRICA', 'MEGSC', 'DROVI', 'DROGR', 'DROBM', 'DROEL', 'DROER', 'DROEU', 'DROFC', 'DROKI', 'DROME', 'DROPE', 'DROPS', 'DRORH', 'DROSE', 'DROSI', 'DROTK', 'DROWI', 'DROYA', 'DROAN', 'DROBP', 'DROMO', 'LUCCU', 'ANOGA', 'ANODA', 'AEDAE', 'CULQU', 'APIME', 'BOMIM', 'CERBI', 'LINHU', 'CAMFO', 'ATTCE', 'SOLIN', 'HARSA', 'NASVI', 'ZOONE', 'RHOPR', 'ACYPI', 'PEDHC', 'HYPDU', 'HELRO', 'CAPI1', 'CAPTE', 'LINUN', 'CRAGI', 'OCTBM', 'LOTGI', 'NEMVE', 'THEKT', 'MNELE', 'TRIAD', 'AMPQE', 'CAPO3', 'BIGNC', 'RETFI', 'CYAME', 'GALSU', 'CHOCR', 'PHATC', 'THAPS', 'BLAHO', 'NANGC', 'HYAAE', 'PHYIT', 'SAPPC', 'ECTSI', 'AURAN', 'CHLRE', 'VOLCA', 'CHLVA', 'OSTLU', 'OSTTA', 'MICPC', 'KLEFL', 'PHYPA', 'ORYBR', 'ORYGL', 'ORYLO', 'ORYNI', 'ORYPU', 'ORYRU', 'ORYSI', 'ORYSJ', 'BRADI', 'HORVD', 'AEGTA', 'WHEAT', 'TRIUA', 'ERATE', 'SORBI', 'MAIZE', 'SETIT', 'MUSAC', 'MUSAM', 'SOLLC', 'SOLTU', 'LOTJA', 'SOYBN', 'MEDTR', 'MANES', 'POPTR', 'PRUPE', 'BRANA', 'BRAOL', 'ARALY', 'ARATH', 'THECC', 'GOSHI', 'VITVI', 'AMBTC', 'SELML']\n"
     ]
    },
    {
     "name": "stderr",
     "output_type": "stream",
     "text": [
      "Loading OGs:   0%|          | 0/4111 [00:00<?, ? OGs/s]\n"
     ]
    },
    {
     "ename": "TypeError",
     "evalue": "omaid_to_entry_nr() missing 1 required positional argument: 'omaid'",
     "output_type": "error",
     "traceback": [
      "\u001b[0;31m---------------------------------------------------------------------------\u001b[0m",
      "\u001b[0;31mTypeError\u001b[0m                                 Traceback (most recent call last)",
      "\u001b[0;32m<ipython-input-3-c20e28fc8601>\u001b[0m in \u001b[0;36m<module>\u001b[0;34m()\u001b[0m\n\u001b[1;32m      6\u001b[0m     \u001b[0moma_output\u001b[0m \u001b[0;34m=\u001b[0m \u001b[0mOMAOutputParser\u001b[0m\u001b[0;34m(\u001b[0m\u001b[0margs\u001b[0m\u001b[0;34m)\u001b[0m\u001b[0;34m\u001b[0m\u001b[0m\n\u001b[1;32m      7\u001b[0m     \u001b[0margs\u001b[0m\u001b[0;34m.\u001b[0m\u001b[0moma_output_path\u001b[0m \u001b[0;34m=\u001b[0m \u001b[0moma_output\u001b[0m\u001b[0;34m.\u001b[0m\u001b[0moma_output_path\u001b[0m\u001b[0;34m\u001b[0m\u001b[0m\n\u001b[0;32m----> 8\u001b[0;31m     \u001b[0mogset\u001b[0m \u001b[0;34m=\u001b[0m \u001b[0mOGSet\u001b[0m\u001b[0;34m(\u001b[0m\u001b[0margs\u001b[0m\u001b[0;34m,\u001b[0m \u001b[0moma_output\u001b[0m\u001b[0;34m=\u001b[0m\u001b[0moma_output\u001b[0m\u001b[0;34m)\u001b[0m\u001b[0;34m\u001b[0m\u001b[0m\n\u001b[0m",
      "\u001b[0;32m/Users/daviddylus/.pyenv/versions/3.5.1/envs/notebook3/lib/python3.5/site-packages/read2tree-0.0.1-py3.5.egg/read2tree/OGSet.py\u001b[0m in \u001b[0;36m__init__\u001b[0;34m(self, args, oma_output, load)\u001b[0m\n\u001b[1;32m     66\u001b[0m             \u001b[0mself\u001b[0m\u001b[0;34m.\u001b[0m\u001b[0mogs\u001b[0m \u001b[0;34m=\u001b[0m \u001b[0moma_output\u001b[0m\u001b[0;34m.\u001b[0m\u001b[0mogs\u001b[0m\u001b[0;34m\u001b[0m\u001b[0m\n\u001b[1;32m     67\u001b[0m             \u001b[0mself\u001b[0m\u001b[0;34m.\u001b[0m\u001b[0moma_output_path\u001b[0m \u001b[0;34m=\u001b[0m \u001b[0mself\u001b[0m\u001b[0;34m.\u001b[0m\u001b[0margs\u001b[0m\u001b[0;34m.\u001b[0m\u001b[0moma_output_path\u001b[0m\u001b[0;34m\u001b[0m\u001b[0m\n\u001b[0;32m---> 68\u001b[0;31m             \u001b[0mself\u001b[0m\u001b[0;34m.\u001b[0m\u001b[0mogs\u001b[0m \u001b[0;34m=\u001b[0m \u001b[0mself\u001b[0m\u001b[0;34m.\u001b[0m\u001b[0m_load_ogs\u001b[0m\u001b[0;34m(\u001b[0m\u001b[0;34m)\u001b[0m\u001b[0;34m\u001b[0m\u001b[0m\n\u001b[0m\u001b[1;32m     69\u001b[0m         \u001b[0;32melse\u001b[0m\u001b[0;34m:\u001b[0m\u001b[0;34m\u001b[0m\u001b[0m\n\u001b[1;32m     70\u001b[0m             \u001b[0mself\u001b[0m\u001b[0;34m.\u001b[0m\u001b[0mogs\u001b[0m \u001b[0;34m=\u001b[0m \u001b[0mself\u001b[0m\u001b[0;34m.\u001b[0m\u001b[0m_reload_ogs_from_folder\u001b[0m\u001b[0;34m(\u001b[0m\u001b[0;34m)\u001b[0m\u001b[0;34m\u001b[0m\u001b[0m\n",
      "\u001b[0;32m/Users/daviddylus/.pyenv/versions/3.5.1/envs/notebook3/lib/python3.5/site-packages/read2tree-0.0.1-py3.5.egg/read2tree/OGSet.py\u001b[0m in \u001b[0;36m_load_ogs\u001b[0;34m(self)\u001b[0m\n\u001b[1;32m    193\u001b[0m \u001b[0;34m\u001b[0m\u001b[0m\n\u001b[1;32m    194\u001b[0m             \u001b[0;32mif\u001b[0m \u001b[0mself\u001b[0m\u001b[0;34m.\u001b[0m\u001b[0m_db_source\u001b[0m\u001b[0;34m:\u001b[0m\u001b[0;34m\u001b[0m\u001b[0m\n\u001b[0;32m--> 195\u001b[0;31m                 \u001b[0mogs\u001b[0m\u001b[0;34m[\u001b[0m\u001b[0mname\u001b[0m\u001b[0;34m]\u001b[0m\u001b[0;34m.\u001b[0m\u001b[0mdna\u001b[0m \u001b[0;34m=\u001b[0m \u001b[0mself\u001b[0m\u001b[0;34m.\u001b[0m\u001b[0m_get_dna_records\u001b[0m\u001b[0;34m(\u001b[0m\u001b[0mogs\u001b[0m\u001b[0;34m[\u001b[0m\u001b[0mname\u001b[0m\u001b[0;34m]\u001b[0m\u001b[0;34m.\u001b[0m\u001b[0maa\u001b[0m\u001b[0;34m,\u001b[0m \u001b[0mname\u001b[0m\u001b[0;34m)\u001b[0m\u001b[0;34m\u001b[0m\u001b[0m\n\u001b[0m\u001b[1;32m    196\u001b[0m             \u001b[0;32melse\u001b[0m\u001b[0;34m:\u001b[0m\u001b[0;34m\u001b[0m\u001b[0m\n\u001b[1;32m    197\u001b[0m                 \u001b[0mprint\u001b[0m\u001b[0;34m(\u001b[0m\u001b[0;34m\"DNA reference was not provided. Only amino acid sequences gathered!\"\u001b[0m\u001b[0;34m)\u001b[0m\u001b[0;34m\u001b[0m\u001b[0m\n",
      "\u001b[0;32m/Users/daviddylus/.pyenv/versions/3.5.1/envs/notebook3/lib/python3.5/site-packages/read2tree-0.0.1-py3.5.egg/read2tree/OGSet.py\u001b[0m in \u001b[0;36m_get_dna_records\u001b[0;34m(self, records, name)\u001b[0m\n\u001b[1;32m    227\u001b[0m         \u001b[0;32mfor\u001b[0m \u001b[0mi\u001b[0m\u001b[0;34m,\u001b[0m \u001b[0mrecord\u001b[0m \u001b[0;32min\u001b[0m \u001b[0menumerate\u001b[0m\u001b[0;34m(\u001b[0m\u001b[0mrecords\u001b[0m\u001b[0;34m)\u001b[0m\u001b[0;34m:\u001b[0m\u001b[0;34m\u001b[0m\u001b[0m\n\u001b[1;32m    228\u001b[0m             \u001b[0;32mif\u001b[0m \u001b[0;34m'h5'\u001b[0m \u001b[0;32min\u001b[0m \u001b[0mself\u001b[0m\u001b[0;34m.\u001b[0m\u001b[0m_db_source\u001b[0m\u001b[0;34m:\u001b[0m\u001b[0;34m\u001b[0m\u001b[0m\n\u001b[0;32m--> 229\u001b[0;31m                 \u001b[0;32mif\u001b[0m \u001b[0mrecord\u001b[0m\u001b[0;34m.\u001b[0m\u001b[0mid\u001b[0m \u001b[0;32min\u001b[0m \u001b[0mself\u001b[0m\u001b[0;34m.\u001b[0m\u001b[0m_db_id_map\u001b[0m\u001b[0;34m.\u001b[0m\u001b[0momaid_to_entry_nr\u001b[0m\u001b[0;34m(\u001b[0m\u001b[0;34m)\u001b[0m\u001b[0;34m:\u001b[0m\u001b[0;34m\u001b[0m\u001b[0m\n\u001b[0m\u001b[1;32m    230\u001b[0m                     \u001b[0moma_db_nr\u001b[0m \u001b[0;34m=\u001b[0m \u001b[0mself\u001b[0m\u001b[0;34m.\u001b[0m\u001b[0m_db_id_map\u001b[0m\u001b[0;34m.\u001b[0m\u001b[0momaid_to_entry_nr\u001b[0m\u001b[0;34m(\u001b[0m\u001b[0mrecord\u001b[0m\u001b[0;34m.\u001b[0m\u001b[0mid\u001b[0m\u001b[0;34m)\u001b[0m\u001b[0;34m\u001b[0m\u001b[0m\n\u001b[1;32m    231\u001b[0m                     og_cdna[i] = SeqRecord.SeqRecord(Seq.Seq(self._db.get_cdna(oma_db_nr).decode(\"utf-8\")),\n",
      "\u001b[0;31mTypeError\u001b[0m: omaid_to_entry_nr() missing 1 required positional argument: 'omaid'"
     ]
    }
   ],
   "source": [
    "from read2tree.OGSet import OGSet\n",
    "from read2tree.parser import OMAOutputParser\n",
    "if progress.status >= 1:\n",
    "    ogset = OGSet(args, load=False)\n",
    "else:\n",
    "    oma_output = OMAOutputParser(args)\n",
    "    args.oma_output_path = oma_output.oma_output_path\n",
    "    ogset = OGSet(args, oma_output=oma_output)"
   ]
  },
  {
   "cell_type": "code",
   "execution_count": null,
   "metadata": {
    "collapsed": false,
    "deletable": true,
    "editable": true
   },
   "outputs": [],
   "source": [
    "from read2tree.ReferenceSet import ReferenceSet\n",
    "if progress.status >= 2:\n",
    "    reference = ReferenceSet(args, load=False)\n",
    "else:\n",
    "    reference = ReferenceSet(args, og_set=ogset.ogs, load=True)"
   ]
  },
  {
   "cell_type": "code",
   "execution_count": null,
   "metadata": {
    "collapsed": false,
    "deletable": true,
    "editable": true,
    "scrolled": false
   },
   "outputs": [],
   "source": [
    "# %load_ext autoreload\n",
    "#%autoreload\n",
    "from read2tree.Mapper import Mapper\n",
    "if progress.status >= 3:\n",
    "    mapper = Mapper(args, og_set=ogset.ogs, load=False)\n",
    "else:\n",
    "    mapper = Mapper(args, ref_set=reference.ref, og_set=ogset.ogs)"
   ]
  },
  {
   "cell_type": "code",
   "execution_count": null,
   "metadata": {
    "collapsed": false,
    "deletable": true,
    "editable": true
   },
   "outputs": [],
   "source": [
    "new_ogs = ogset.add_mapped_seq(mapper.og_records)"
   ]
  },
  {
   "cell_type": "code",
   "execution_count": null,
   "metadata": {
    "collapsed": false,
    "deletable": true,
    "editable": true
   },
   "outputs": [],
   "source": [
    "bla = ['x','a','y','d']\n",
    "blub = ['y','a','d','a']\n",
    "rem = ['x','a']\n",
    "ind = []\n",
    "for i,letter in enumerate(zip(bla,blub)):\n",
    "    print(letter[0])\n",
    "    if letter[0] in rem:\n",
    "        ind.append(i)\n",
    "        \n",
    "print([i for j, i in enumerate(bla) if j not in ind])\n",
    "# print(zip(bla,blub)[0])"
   ]
  },
  {
   "cell_type": "code",
   "execution_count": null,
   "metadata": {
    "collapsed": false,
    "deletable": true,
    "editable": true
   },
   "outputs": [],
   "source": [
    "%reload_ext autoreload \n",
    "%autoreload 2 \n",
    "from read2tree import Aligner\n",
    "alignments = Aligner.Aligner(args, ogset.mapped_ogs)"
   ]
  },
  {
   "cell_type": "code",
   "execution_count": null,
   "metadata": {
    "collapsed": false,
    "deletable": true,
    "editable": true
   },
   "outputs": [],
   "source": [
    "concat_alignment = alignments.concat_alignment()"
   ]
  },
  {
   "cell_type": "code",
   "execution_count": null,
   "metadata": {
    "collapsed": false,
    "deletable": true,
    "editable": true
   },
   "outputs": [],
   "source": [
    "from read2tree import TreeInference\n",
    "tree = TreeInference.TreeInference(args, concat_alignment=concat_alignment)"
   ]
  },
  {
   "cell_type": "code",
   "execution_count": null,
   "metadata": {
    "collapsed": false,
    "deletable": true,
    "editable": true
   },
   "outputs": [],
   "source": [
    "print(tree.tree)"
   ]
  },
  {
   "cell_type": "code",
   "execution_count": null,
   "metadata": {
    "collapsed": false,
    "deletable": true,
    "editable": true
   },
   "outputs": [],
   "source": [
    "import re\n",
    "bla = 'bascdd [KADO]'\n",
    "re.search('^(.*?)\\[(.*)\\]', '', bla)"
   ]
  },
  {
   "cell_type": "code",
   "execution_count": null,
   "metadata": {
    "collapsed": true,
    "deletable": true,
    "editable": true
   },
   "outputs": [],
   "source": [
    "import pyopa\n"
   ]
  },
  {
   "cell_type": "code",
   "execution_count": null,
   "metadata": {
    "collapsed": true,
    "deletable": true,
    "editable": true
   },
   "outputs": [],
   "source": []
  }
 ],
 "metadata": {
  "kernelspec": {
   "display_name": "Python 3",
   "language": "python",
   "name": "python3"
  },
  "language_info": {
   "codemirror_mode": {
    "name": "ipython",
    "version": 3
   },
   "file_extension": ".py",
   "mimetype": "text/x-python",
   "name": "python",
   "nbconvert_exporter": "python",
   "pygments_lexer": "ipython3",
   "version": "3.5.1"
  }
 },
 "nbformat": 4,
 "nbformat_minor": 2
}
