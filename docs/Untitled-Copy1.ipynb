{
 "cells": [
  {
   "cell_type": "markdown",
   "metadata": {
    "deletable": true,
    "editable": true
   },
   "source": [
    "## This is a debuging ipython notebook"
   ]
  },
  {
   "cell_type": "code",
   "execution_count": null,
   "metadata": {
    "collapsed": false,
    "deletable": true,
    "editable": true
   },
   "outputs": [],
   "source": [
    "%load_ext autoreload\n",
    "import argparse\n",
    "import warnings\n",
    "warnings.filterwarnings('ignore')\n",
    "\n",
    "arg_parser = argparse.ArgumentParser()\n",
    "        \n",
    "    # # Add standard arguments\n",
    "    # if not is_standalone:\n",
    "    #     # If standalone, set in parser.\n",
    "arg_parser.add_argument('--output_path', default='.',\n",
    "                                help='[Default is current directory] Path to '\n",
    "                                     'output directory.')\n",
    "\n",
    "\n",
    "    # Arguments to generate the reference\n",
    "arg_parser.add_argument('-r', '--reference', action='store_true',\n",
    "                            help='Just generate the reference dataset for mapping')\n",
    "arg_parser.add_argument('--min_species', type=int, default=30,\n",
    "                            help='Min number of species in selected orthologous groups. \\\n",
    "                            If not selected it will be estimated such that around 1000 OGs are available.')\n",
    "arg_parser.add_argument('--dna_reference', default='/Volumes/Untitled/eukaryotes.cdna.fa',\n",
    "                            help='Reference fasta file that contains nucleotide sequences.')\n",
    "\n",
    "    # Arguments to map the reads\n",
    "arg_parser.add_argument('--ref_folder', default=None,\n",
    "                            help='Folder containing reference files with sequences sorted by species.')\n",
    "arg_parser.add_argument('--reads', default='/Users/daviddylus/Research/pore2tree/fritz_scripts/pipeline/Nano_reads/ERR1877969.fastq',\n",
    "                            help='Reads to be mapped to reference.')\n",
    "# arg_parser.add_argument('--reads', nargs='2',default=None, help='Reads to be mapped to reference.')\n",
    "\n",
    "\n",
    "# Parse the arguments.\n",
    "# reference = ['--ref_folder', '/Users/daviddylus/Research/pore2tree/pore2tree/tests/mapper/test1/db/']\n",
    "argv = ['--output_path','/Users/daviddylus/mnt/read2tree/mouse/read2tree_out/SRR5171076/wm_bg26', \n",
    "        '--reads', '/Users/daviddylus/mnt/read2tree/mouse/reads/illumina_hiseq_encode/SRR5171076_02X_0_0.fq /Users/daviddylus/mnt/read2tree/mouse/reads/illumina_hiseq_encode/SRR5171076_02X_1_0.fq']\n",
    "args = arg_parser.parse_args(argv)\n",
    "print(args)"
   ]
  },
  {
   "cell_type": "code",
   "execution_count": null,
   "metadata": {
    "collapsed": false,
    "deletable": true,
    "editable": true
   },
   "outputs": [],
   "source": [
    "import glob\n",
    "output_path='/Users/daviddylus/mnt/read2tree/mouse/read2tree_out/SRR5171076/wm_bg26/'\n",
    "for files in glob.iglob(output_path+'/**/*consensus.fa', recursive=True):\n",
    "    print(files)"
   ]
  },
  {
   "cell_type": "code",
   "execution_count": null,
   "metadata": {
    "collapsed": false,
    "deletable": true,
    "editable": true
   },
   "outputs": [],
   "source": [
    "from Bio import AlignIO\n",
    "import numpy as np\n",
    "import re\n",
    "\n",
    "for folder in glob.iglob(output_path+'/05_*', recursive=True):\n",
    "    print(folder)\n",
    "    all_coverages = []\n",
    "\n",
    "    for file in glob.iglob(folder+'/*.phy'):\n",
    "        align = AlignIO.read(file, \"phylip-relaxed\")\n",
    "        for record in align:\n",
    "            if 'SRR51' in record.id:\n",
    "                seq = re.sub('-', '', str(record.seq))\n",
    "                xx = seq.count(\"X\")\n",
    "                aa = len(seq)-xx\n",
    "                all_coverages.append((aa/len(seq)))\n",
    "    np_all_coverages = np.array(all_coverages)\n",
    "    print(np.mean(np_all_coverages))\n",
    "    print(np.std(np_all_coverages))\n"
   ]
  },
  {
   "cell_type": "code",
   "execution_count": 4,
   "metadata": {
    "collapsed": false,
    "deletable": true,
    "editable": true
   },
   "outputs": [
    {
     "name": "stdout",
     "output_type": "stream",
     "text": [
      "/Users/daviddylus/mnt/read2tree/mouse/read2tree_out/SRR5171076/wm_bg26/04_ogs_map_SRR5171076_r20X_0_0\n",
      "0.95173458632\n",
      "0.117541030371\n",
      "/Users/daviddylus/mnt/read2tree/mouse/read2tree_out/SRR5171076/wm_bg26/04_ogs_map_SRR5171076_r50X_0_0\n",
      "0.978738693378\n",
      "0.0753968800902\n"
     ]
    }
   ],
   "source": [
    "from Bio import SeqIO\n",
    "import numpy as np\n",
    "import re\n",
    "\n",
    "for folder in glob.iglob(output_path+'/04_*', recursive=True):\n",
    "    print(folder)\n",
    "    all_coverages = []\n",
    "\n",
    "    for file in glob.iglob(folder+'/*.fa'):\n",
    "        align = SeqIO.parse(file, \"fasta\")\n",
    "        for record in align:\n",
    "            if 'SRR51' in record.id:\n",
    "#                 seq = re.sub('-', '', str(record.seq))\n",
    "                xx = str(record.seq).count(\"X\")\n",
    "                aa = len(record.seq)-xx\n",
    "                all_coverages.append((aa/len(record.seq)))\n",
    "    np_all_coverages = np.array(all_coverages)\n",
    "    print(np.mean(np_all_coverages))\n",
    "    print(np.std(np_all_coverages))"
   ]
  },
  {
   "cell_type": "code",
   "execution_count": 3,
   "metadata": {
    "collapsed": false,
    "deletable": true,
    "editable": true
   },
   "outputs": [
    {
     "name": "stderr",
     "output_type": "stream",
     "text": [
      "\r",
      "Loading OGs : 0 ogs [00:00, ? ogs/s]"
     ]
    },
    {
     "name": "stdout",
     "output_type": "stream",
     "text": [
      "/Users/daviddylus/mnt/read2tree/mouse/read2tree_out/SRR5171076/wm_bg26/04_ogs_map_SRR5171076_r20X_0_0\n"
     ]
    },
    {
     "name": "stderr",
     "output_type": "stream",
     "text": [
      "Loading OGs : 701 ogs [00:12, 54.34 ogs/s]\n",
      "Aligning OGs : 100%|██████████| 698/698 [02:17<00:00,  3.01 alignments/s]\n",
      "Loading OGs : 0 ogs [00:00, ? ogs/s]"
     ]
    },
    {
     "name": "stdout",
     "output_type": "stream",
     "text": [
      "3.37679083095\n",
      "8.41235821813\n",
      "/Users/daviddylus/mnt/read2tree/mouse/read2tree_out/SRR5171076/wm_bg26/04_ogs_map_SRR5171076_r50X_0_0\n"
     ]
    },
    {
     "name": "stderr",
     "output_type": "stream",
     "text": [
      "Loading OGs : 701 ogs [00:15, 44.99 ogs/s]\n",
      "Aligning OGs : 100%|██████████| 698/698 [02:23<00:00,  5.48 alignments/s]"
     ]
    },
    {
     "name": "stdout",
     "output_type": "stream",
     "text": [
      "3.44555873926\n",
      "8.94558776421\n"
     ]
    },
    {
     "name": "stderr",
     "output_type": "stream",
     "text": [
      "\n"
     ]
    }
   ],
   "source": [
    "from Bio import SeqIO\n",
    "from zoo.wrappers.aligners import Mafft\n",
    "from tqdm import tqdm\n",
    "import glob\n",
    "import numpy as np\n",
    "import os\n",
    "import re\n",
    "output_path='/Users/daviddylus/mnt/read2tree/mouse/read2tree_out/SRR5171076/wm_bg26/'\n",
    "mapping='/Users/daviddylus/mnt/read2tree/mouse/read2tree_out/SRR5171076/wm_bg26/04_ogs_map_SRR5171076_20X_0_0/'\n",
    "real='/Users/daviddylus/mnt/read2tree/mouse/read2tree_out/SRR5171076/m_bg25/01_ref_ogs_aa/'\n",
    "all_diff = {}\n",
    "for folder in glob.iglob(output_path+'/04_*', recursive=True):\n",
    "    out_dict = {}\n",
    "    print(folder)\n",
    "    for file in tqdm(glob.iglob(folder+\"/*.fa\"), desc='Loading OGs ', unit=' ogs'):\n",
    "        to_check = []\n",
    "        map_rec = SeqIO.parse(file, \"fasta\")\n",
    "        for record in map_rec:\n",
    "            if 'SRR51' in record.id:\n",
    "                to_check.append(record)\n",
    "        if os.path.exists(real+os.path.basename(file)):\n",
    "            ori_rec = SeqIO.parse(real+os.path.basename(file), \"fasta\")\n",
    "            for record in ori_rec:\n",
    "                if 'MOUSE' in record.id:\n",
    "                    to_check.append(record)\n",
    "                    out_dict[os.path.basename(file)] = to_check\n",
    "    align_dict = {}\n",
    "    for key, value in tqdm(out_dict.items(), desc='Aligning OGs ', unit=' alignments'):\n",
    "        mafft_wrapper = Mafft(value, datatype=\"PROTEIN\")\n",
    "        mafft_wrapper.options.options['--localpair'].set_value(True)\n",
    "        mafft_wrapper.options.options['--maxiterate'].set_value(1000)\n",
    "        alignment = mafft_wrapper()\n",
    "        align_dict[key] = alignment\n",
    "    \n",
    "    differences = []\n",
    "    differences_dict = {}\n",
    "    for key,alignment in align_dict.items():\n",
    "        differences.append(get_align_diff(alignment))\n",
    "        differences_dict[key] = get_align_diff(alignment)\n",
    "    all_diff[folder] = differences_dict\n",
    "    diff_np = np.array(differences)\n",
    "    print(diff_np.mean())\n",
    "    print(diff_np.std())"
   ]
  },
  {
   "cell_type": "code",
   "execution_count": null,
   "metadata": {
    "collapsed": false,
    "deletable": true,
    "editable": true
   },
   "outputs": [],
   "source": [
    "with open('csvfile.csv','w') as file:\n",
    "    for key,value in all_diff.items():\n",
    "        for key2,value2 in value.items():\n",
    "            #print(key.split('_map_')[-1]+','+key2+','+'{}'.format(value2))\n",
    "            file.write(key.split('_map_')[-1]+','+key2+','+'{}'.format(value2)+'\\n')\n",
    "    "
   ]
  },
  {
   "cell_type": "code",
   "execution_count": null,
   "metadata": {
    "collapsed": false,
    "deletable": true,
    "editable": true
   },
   "outputs": [],
   "source": []
  },
  {
   "cell_type": "code",
   "execution_count": 2,
   "metadata": {
    "collapsed": false,
    "deletable": true,
    "editable": true
   },
   "outputs": [],
   "source": [
    "def get_align_diff(alignment):\n",
    "    diff = 0\n",
    "    for i,value in enumerate(alignment[0].seq):\n",
    "        if value is not 'X' and value is not '-':\n",
    "            if alignment[0][i] is not alignment[1][i]:\n",
    "                diff += 1\n",
    "    return diff"
   ]
  },
  {
   "cell_type": "code",
   "execution_count": null,
   "metadata": {
    "collapsed": false,
    "deletable": true,
    "editable": true
   },
   "outputs": [],
   "source": [
    "\n"
   ]
  },
  {
   "cell_type": "code",
   "execution_count": null,
   "metadata": {
    "collapsed": false,
    "deletable": true,
    "editable": true
   },
   "outputs": [],
   "source": [
    "import pyopa\n",
    "defaults = pyopa.load_default_environments()\n",
    "envs = defaults['environments']\n",
    "env = envs[515]\n",
    "align_dict_pyopa = {}\n",
    "for key, value in out_dict.items():\n",
    "    s1 = pyopa.Sequence(str(value[0].seq))\n",
    "    s2 = pyopa.Sequence(str(value[1].seq))\n",
    "    align_dict_pyopa[key] = pyopa.align_double(s1, s2, env)"
   ]
  },
  {
   "cell_type": "code",
   "execution_count": null,
   "metadata": {
    "collapsed": true,
    "deletable": true,
    "editable": true
   },
   "outputs": [],
   "source": [
    "differences_dict"
   ]
  },
  {
   "cell_type": "code",
   "execution_count": null,
   "metadata": {
    "collapsed": false,
    "deletable": true,
    "editable": true
   },
   "outputs": [],
   "source": [
    "dir(pyopa)"
   ]
  },
  {
   "cell_type": "code",
   "execution_count": 19,
   "metadata": {
    "collapsed": false,
    "deletable": true,
    "editable": true
   },
   "outputs": [
    {
     "name": "stderr",
     "output_type": "stream",
     "text": [
      "Loading OGs : 490 ogs [06:34,  2.15 ogs/s]\n"
     ]
    },
    {
     "data": {
      "text/plain": [
       "487"
      ]
     },
     "execution_count": 19,
     "metadata": {},
     "output_type": "execute_result"
    }
   ],
   "source": [
    "import os\n",
    "from tqdm import tqdm\n",
    "import glob\n",
    "from Bio import SeqIO, Seq, SeqRecord\n",
    "from Bio.Alphabet import SingleLetterAlphabet\n",
    "from Bio.SeqIO.FastaIO import FastaWriter\n",
    "mapping='/Users/daviddylus/mnt/read2tree/mouse/read2tree_out/SRR5171076/wm_bg26/without_mapping_to_rat/04_ogs_map_SRR5171076_01X_0_0/'\n",
    "real='/Users/daviddylus/mnt/read2tree/mouse/read2tree_out/SRR5171076/m_bg25/01_ref_ogs_aa/'\n",
    "to_check_map = []\n",
    "to_check_original = []\n",
    "for file in tqdm(glob.iglob(mapping+\"*.fa\"), desc='Loading OGs ', unit=' ogs'):\n",
    "    map_rec = SeqIO.parse(file, \"fasta\")\n",
    "    for record in map_rec:\n",
    "        if 'SRR51' in record.id:\n",
    "            to_check_map.append(record)\n",
    "    if os.path.exists(real+os.path.basename(file)):    \n",
    "        ori_rec = SeqIO.parse(real+os.path.basename(file), \"fasta\")\n",
    "        for record in ori_rec:\n",
    "            if 'MOUSE' in record.id:\n",
    "                to_check_original.append(record)\n",
    "\n",
    "handle = open('/Users/daviddylus/Desktop/01X_wr_map.fa', \"w\")\n",
    "writer = FastaWriter(handle, wrap=None)\n",
    "writer.write_file(to_check_map)\n",
    "\n",
    "handle = open('/Users/daviddylus/Desktop/01X_wr_original.fa', \"w\")\n",
    "writer = FastaWriter(handle, wrap=None)\n",
    "writer.write_file(to_check_original)"
   ]
  },
  {
   "cell_type": "code",
   "execution_count": 1,
   "metadata": {
    "collapsed": false,
    "deletable": true,
    "editable": true
   },
   "outputs": [
    {
     "name": "stderr",
     "output_type": "stream",
     "text": [
      "/Users/daviddylus/.pyenv/versions/3.5.1/envs/notebook3/lib/python3.5/site-packages/tables/leaf.py:396: PerformanceWarning: The Leaf ``/Protein/_i_Entries/OmaHOG/sorted`` is exceeding the maximum recommended rowsize (104857600 bytes);\n",
      "be ready to see PyTables asking for *lots* of memory and possibly slow\n",
      "I/O.  You may want to reduce the rowsize by trimming the value of\n",
      "dimensions that are orthogonal (and preferably close) to the *main*\n",
      "dimension of this leave.  Alternatively, in case you have specified a\n",
      "very small/large chunksize, you may want to increase/decrease it.\n",
      "  PerformanceWarning)\n"
     ]
    }
   ],
   "source": [
    "from tables import *\n",
    "from pyoma.browser import db\n",
    "import glob\n",
    "from Bio import SeqIO, Seq, SeqRecord\n",
    "\n",
    "h5_file = open_file(\"/Users/daviddylus/mnt/omabrowser/OmaServer.h5\", mode=\"r\")\n",
    "bdb = db.Database(h5_file)\n",
    "bdb_id_map = db.OmaIdMapper(bdb)\n",
    "bdb_source = 'h5'"
   ]
  },
  {
   "cell_type": "code",
   "execution_count": 25,
   "metadata": {
    "collapsed": false,
    "deletable": true,
    "editable": true
   },
   "outputs": [
    {
     "name": "stdout",
     "output_type": "stream",
     "text": [
      "blub\n"
     ]
    }
   ],
   "source": [
    "species_list = [row['UniProtSpeciesCode'].decode(\"utf-8\") for row in bdb_id_map.genome_table]\n",
    "\n",
    "if 'CANAV' in species_list:\n",
    "    print('bla')\n",
    "else:\n",
    "    print('blub')\n",
    "\n",
    "# print(species_list)"
   ]
  },
  {
   "cell_type": "code",
   "execution_count": 9,
   "metadata": {
    "collapsed": false,
    "deletable": true,
    "editable": true
   },
   "outputs": [
    {
     "name": "stdout",
     "output_type": "stream",
     "text": [
      "here\n",
      "here\n",
      "here\n",
      "here\n",
      "here\n",
      "here\n",
      "here\n",
      "here\n",
      "here\n",
      "here\n",
      "here\n",
      "here\n",
      "here\n",
      "here\n",
      "here\n",
      "here\n",
      "here\n",
      "here\n",
      "here\n",
      "here\n",
      "here\n",
      "here\n",
      "here\n",
      "here\n",
      "here\n",
      "here\n",
      "here\n",
      "here\n",
      "here\n",
      "here\n",
      "here\n",
      "here\n",
      "here\n",
      "here\n",
      "here\n",
      "here\n",
      "here\n",
      "here\n",
      "here\n",
      "here\n",
      "here\n",
      "here\n",
      "here\n",
      "here\n",
      "here\n",
      "here\n",
      "here\n",
      "here\n",
      "here\n",
      "here\n",
      "here\n",
      "here\n",
      "here\n",
      "here\n",
      "here\n",
      "here\n",
      "here\n",
      "here\n",
      "here\n",
      "here\n",
      "here\n",
      "here\n",
      "here\n",
      "here\n",
      "here\n",
      "here\n",
      "here\n",
      "here\n",
      "here\n"
     ]
    }
   ],
   "source": [
    "\n",
    "for file in glob.iglob(\"/Users/daviddylus/Research/read2tree/read2tree/tests/marker_genes/*.fa\"):\n",
    "    map_rec = SeqIO.parse(file, \"fasta\")\n",
    "    for record in map_rec:\n",
    "        species = record.description[record.description.find(\"[\") + 1:record.description.find(\"]\")]\n",
    "        if len(species.split(\" \")) > 1:\n",
    "            new_id = species.split(\" \")[0][0:3] + species.split(\" \")[1][0:2]\n",
    "            species = new_id.upper()\n",
    "        if species in species_column:\n",
    "            print('here')"
   ]
  },
  {
   "cell_type": "code",
   "execution_count": null,
   "metadata": {
    "collapsed": true,
    "deletable": true,
    "editable": true
   },
   "outputs": [],
   "source": []
  }
 ],
 "metadata": {
  "kernelspec": {
   "display_name": "Python 3",
   "language": "python",
   "name": "python3"
  },
  "language_info": {
   "codemirror_mode": {
    "name": "ipython",
    "version": 3
   },
   "file_extension": ".py",
   "mimetype": "text/x-python",
   "name": "python",
   "nbconvert_exporter": "python",
   "pygments_lexer": "ipython3",
   "version": "3.5.1"
  }
 },
 "nbformat": 4,
 "nbformat_minor": 2
}
