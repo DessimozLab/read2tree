{
 "cells": [
  {
   "cell_type": "markdown",
   "metadata": {
    "deletable": true,
    "editable": true
   },
   "source": [
    "## This is a debuging ipython notebook"
   ]
  },
  {
   "cell_type": "code",
   "execution_count": null,
   "metadata": {
    "collapsed": false,
    "deletable": true,
    "editable": true
   },
   "outputs": [],
   "source": [
    "%load_ext autoreload\n",
    "import argparse\n",
    "import warnings\n",
    "warnings.filterwarnings('ignore')\n",
    "\n",
    "arg_parser = argparse.ArgumentParser()\n",
    "        \n",
    "    # # Add standard arguments\n",
    "    # if not is_standalone:\n",
    "    #     # If standalone, set in parser.\n",
    "arg_parser.add_argument('--output_path', default='.',\n",
    "                                help='[Default is current directory] Path to '\n",
    "                                     'output directory.')\n",
    "\n",
    "\n",
    "    # Arguments to generate the reference\n",
    "arg_parser.add_argument('-r', '--reference', action='store_true',\n",
    "                            help='Just generate the reference dataset for mapping')\n",
    "arg_parser.add_argument('--min_species', type=int, default=30,\n",
    "                            help='Min number of species in selected orthologous groups. \\\n",
    "                            If not selected it will be estimated such that around 1000 OGs are available.')\n",
    "arg_parser.add_argument('--dna_reference', default='/Volumes/Untitled/eukaryotes.cdna.fa',\n",
    "                            help='Reference fasta file that contains nucleotide sequences.')\n",
    "\n",
    "    # Arguments to map the reads\n",
    "arg_parser.add_argument('--ref_folder', default=None,\n",
    "                            help='Folder containing reference files with sequences sorted by species.')\n",
    "arg_parser.add_argument('--reads', default='/Users/daviddylus/Research/pore2tree/fritz_scripts/pipeline/Nano_reads/ERR1877969.fastq',\n",
    "                            help='Reads to be mapped to reference.')\n",
    "# arg_parser.add_argument('--reads', nargs='2',default=None, help='Reads to be mapped to reference.')\n",
    "\n",
    "\n",
    "# Parse the arguments.\n",
    "# reference = ['--ref_folder', '/Users/daviddylus/Research/pore2tree/pore2tree/tests/mapper/test1/db/']\n",
    "argv = ['--output_path','/Users/daviddylus/mnt/read2tree/mouse/read2tree_out/SRR5171076/wm_bg26', \n",
    "        '--reads', '/Users/daviddylus/mnt/read2tree/mouse/reads/illumina_hiseq_encode/SRR5171076_02X_0_0.fq /Users/daviddylus/mnt/read2tree/mouse/reads/illumina_hiseq_encode/SRR5171076_02X_1_0.fq']\n",
    "args = arg_parser.parse_args(argv)\n",
    "print(args)"
   ]
  },
  {
   "cell_type": "code",
   "execution_count": null,
   "metadata": {
    "collapsed": false,
    "deletable": true,
    "editable": true
   },
   "outputs": [],
   "source": [
    "import glob\n",
    "output_path='/Users/daviddylus/mnt/read2tree/mouse/read2tree_out/SRR5171076/wm_bg26/'\n",
    "for files in glob.iglob(output_path+'/**/*consensus.fa', recursive=True):\n",
    "    print(files)"
   ]
  },
  {
   "cell_type": "code",
   "execution_count": null,
   "metadata": {
    "collapsed": false,
    "deletable": true,
    "editable": true
   },
   "outputs": [],
   "source": [
    "from Bio import AlignIO\n",
    "import numpy as np\n",
    "import re\n",
    "\n",
    "for folder in glob.iglob(output_path+'/05_*', recursive=True):\n",
    "    print(folder)\n",
    "    all_coverages = []\n",
    "\n",
    "    for file in glob.iglob(folder+'/*.phy'):\n",
    "        align = AlignIO.read(file, \"phylip-relaxed\")\n",
    "        for record in align:\n",
    "            if 'SRR51' in record.id:\n",
    "                seq = re.sub('-', '', str(record.seq))\n",
    "                xx = seq.count(\"X\")\n",
    "                aa = len(seq)-xx\n",
    "                all_coverages.append((aa/len(seq)))\n",
    "    np_all_coverages = np.array(all_coverages)\n",
    "    print(np.mean(np_all_coverages))\n",
    "    print(np.std(np_all_coverages))\n"
   ]
  },
  {
   "cell_type": "code",
   "execution_count": 5,
   "metadata": {
    "collapsed": false,
    "deletable": true,
    "editable": true
   },
   "outputs": [
    {
     "name": "stdout",
     "output_type": "stream",
     "text": [
      "/Users/daviddylus/mnt/read2tree/canva/read2tree/04_ogs_map_ill_02x_0_0\n",
      "0.283531175426\n",
      "0.222076327141\n",
      "/Users/daviddylus/mnt/read2tree/canva/read2tree/04_ogs_map_ill_2x_0_0\n",
      "0.470690295861\n",
      "0.26498555622\n",
      "/Users/daviddylus/mnt/read2tree/canva/read2tree/04_ogs_map_ill_10x_0_0\n",
      "0.605883628109\n",
      "0.278013084386\n",
      "/Users/daviddylus/mnt/read2tree/canva/read2tree/04_ogs_map_ill_20x_0_0\n",
      "0.631600272218\n",
      "0.281235352424\n",
      "/Users/daviddylus/mnt/read2tree/canva/read2tree/04_ogs_map_nano_02x_0_0\n",
      "nan\n",
      "nan\n"
     ]
    },
    {
     "name": "stderr",
     "output_type": "stream",
     "text": [
      "/Users/daviddylus/.pyenv/versions/3.5.1/envs/notebook3/lib/python3.5/site-packages/numpy/core/fromnumeric.py:2909: RuntimeWarning: Mean of empty slice.\n",
      "  out=out, **kwargs)\n",
      "/Users/daviddylus/.pyenv/versions/3.5.1/envs/notebook3/lib/python3.5/site-packages/numpy/core/_methods.py:80: RuntimeWarning: invalid value encountered in double_scalars\n",
      "  ret = ret.dtype.type(ret / rcount)\n",
      "/Users/daviddylus/.pyenv/versions/3.5.1/envs/notebook3/lib/python3.5/site-packages/numpy/core/_methods.py:135: RuntimeWarning: Degrees of freedom <= 0 for slice\n",
      "  keepdims=keepdims)\n",
      "/Users/daviddylus/.pyenv/versions/3.5.1/envs/notebook3/lib/python3.5/site-packages/numpy/core/_methods.py:105: RuntimeWarning: invalid value encountered in true_divide\n",
      "  arrmean, rcount, out=arrmean, casting='unsafe', subok=False)\n",
      "/Users/daviddylus/.pyenv/versions/3.5.1/envs/notebook3/lib/python3.5/site-packages/numpy/core/_methods.py:127: RuntimeWarning: invalid value encountered in double_scalars\n",
      "  ret = ret.dtype.type(ret / rcount)\n"
     ]
    }
   ],
   "source": [
    "from Bio import SeqIO\n",
    "import numpy as np\n",
    "import re\n",
    "import glob\n",
    "output_path='/Users/daviddylus/mnt/read2tree/canva/read2tree/'\n",
    "for folder in glob.iglob(output_path+'/04_*', recursive=True):\n",
    "    print(folder)\n",
    "    all_coverages = []\n",
    "\n",
    "    for file in glob.iglob(folder+'/*.fa'):\n",
    "        align = SeqIO.parse(file, \"fasta\")\n",
    "        for record in align:\n",
    "            if 'ill' in record.id:\n",
    "#                 seq = re.sub('-', '', str(record.seq))\n",
    "                xx = str(record.seq).count(\"X\")\n",
    "                aa = len(record.seq)-xx\n",
    "                all_coverages.append((aa/len(record.seq)))\n",
    "    np_all_coverages = np.array(all_coverages)\n",
    "    print(np.mean(np_all_coverages))\n",
    "    print(np.std(np_all_coverages))"
   ]
  },
  {
   "cell_type": "code",
   "execution_count": null,
   "metadata": {
    "collapsed": false,
    "deletable": true,
    "editable": true
   },
   "outputs": [],
   "source": [
    "from Bio import SeqIO\n",
    "from zoo.wrappers.aligners import Mafft\n",
    "from tqdm import tqdm\n",
    "import glob\n",
    "import numpy as np\n",
    "import os\n",
    "import re\n",
    "output_path='/Users/daviddylus/mnt/read2tree/mouse/read2tree_out/SRR5171076/wm_bg26/'\n",
    "mapping='/Users/daviddylus/mnt/read2tree/mouse/read2tree_out/SRR5171076/wm_bg26/04_ogs_map_SRR5171076_20X_0_0/'\n",
    "real='/Users/daviddylus/mnt/read2tree/mouse/read2tree_out/SRR5171076/m_bg25/01_ref_ogs_aa/'\n",
    "all_diff = {}\n",
    "for folder in glob.iglob(output_path+'/04_*', recursive=True):\n",
    "    out_dict = {}\n",
    "    print(folder)\n",
    "    for file in tqdm(glob.iglob(folder+\"/*.fa\"), desc='Loading OGs ', unit=' ogs'):\n",
    "        to_check = []\n",
    "        map_rec = SeqIO.parse(file, \"fasta\")\n",
    "        for record in map_rec:\n",
    "            if 'SRR51' in record.id:\n",
    "                to_check.append(record)\n",
    "        if os.path.exists(real+os.path.basename(file)):\n",
    "            ori_rec = SeqIO.parse(real+os.path.basename(file), \"fasta\")\n",
    "            for record in ori_rec:\n",
    "                if 'MOUSE' in record.id:\n",
    "                    to_check.append(record)\n",
    "                    out_dict[os.path.basename(file)] = to_check\n",
    "    align_dict = {}\n",
    "    for key, value in tqdm(out_dict.items(), desc='Aligning OGs ', unit=' alignments'):\n",
    "        mafft_wrapper = Mafft(value, datatype=\"PROTEIN\")\n",
    "        mafft_wrapper.options.options['--localpair'].set_value(True)\n",
    "        mafft_wrapper.options.options['--maxiterate'].set_value(1000)\n",
    "        alignment = mafft_wrapper()\n",
    "        align_dict[key] = alignment\n",
    "    \n",
    "    differences = []\n",
    "    differences_dict = {}\n",
    "    for key,alignment in align_dict.items():\n",
    "        differences.append(get_align_diff(alignment))\n",
    "        differences_dict[key] = get_align_diff(alignment)\n",
    "    all_diff[folder] = differences_dict\n",
    "    diff_np = np.array(differences)\n",
    "    print(diff_np.mean())\n",
    "    print(diff_np.std())"
   ]
  },
  {
   "cell_type": "code",
   "execution_count": null,
   "metadata": {
    "collapsed": false,
    "deletable": true,
    "editable": true
   },
   "outputs": [],
   "source": [
    "with open('csvfile.csv','w') as file:\n",
    "    for key,value in all_diff.items():\n",
    "        for key2,value2 in value.items():\n",
    "            #print(key.split('_map_')[-1]+','+key2+','+'{}'.format(value2))\n",
    "            file.write(key.split('_map_')[-1]+','+key2+','+'{}'.format(value2)+'\\n')\n",
    "    "
   ]
  },
  {
   "cell_type": "code",
   "execution_count": null,
   "metadata": {
    "collapsed": false,
    "deletable": true,
    "editable": true
   },
   "outputs": [],
   "source": []
  },
  {
   "cell_type": "code",
   "execution_count": null,
   "metadata": {
    "collapsed": false,
    "deletable": true,
    "editable": true
   },
   "outputs": [],
   "source": [
    "def get_align_diff(alignment):\n",
    "    diff = 0\n",
    "    for i,value in enumerate(alignment[0].seq):\n",
    "        if value is not 'X' and value is not '-':\n",
    "            if alignment[0][i] is not alignment[1][i]:\n",
    "                diff += 1\n",
    "    return diff"
   ]
  },
  {
   "cell_type": "code",
   "execution_count": null,
   "metadata": {
    "collapsed": false,
    "deletable": true,
    "editable": true
   },
   "outputs": [],
   "source": [
    "\n"
   ]
  },
  {
   "cell_type": "code",
   "execution_count": null,
   "metadata": {
    "collapsed": false,
    "deletable": true,
    "editable": true
   },
   "outputs": [],
   "source": [
    "import pyopa\n",
    "defaults = pyopa.load_default_environments()\n",
    "envs = defaults['environments']\n",
    "env = envs[515]\n",
    "align_dict_pyopa = {}\n",
    "for key, value in out_dict.items():\n",
    "    s1 = pyopa.Sequence(str(value[0].seq))\n",
    "    s2 = pyopa.Sequence(str(value[1].seq))\n",
    "    align_dict_pyopa[key] = pyopa.align_double(s1, s2, env)"
   ]
  },
  {
   "cell_type": "code",
   "execution_count": null,
   "metadata": {
    "collapsed": true,
    "deletable": true,
    "editable": true
   },
   "outputs": [],
   "source": [
    "differences_dict"
   ]
  },
  {
   "cell_type": "code",
   "execution_count": null,
   "metadata": {
    "collapsed": false,
    "deletable": true,
    "editable": true
   },
   "outputs": [],
   "source": [
    "dir(pyopa)"
   ]
  },
  {
   "cell_type": "code",
   "execution_count": 10,
   "metadata": {
    "collapsed": false,
    "deletable": true,
    "editable": true
   },
   "outputs": [
    {
     "name": "stderr",
     "output_type": "stream",
     "text": [
      "Loading OGs : 1538 ogs [01:48, 15.57 ogs/s]\n"
     ]
    },
    {
     "data": {
      "text/plain": [
       "1538"
      ]
     },
     "execution_count": 10,
     "metadata": {},
     "output_type": "execute_result"
    }
   ],
   "source": [
    "import os\n",
    "from tqdm import tqdm\n",
    "import glob\n",
    "from Bio import SeqIO, Seq, SeqRecord\n",
    "from Bio.Alphabet import SingleLetterAlphabet\n",
    "from Bio.SeqIO.FastaIO import FastaWriter\n",
    "mapping='/Users/daviddylus/mnt/read2tree/canva/read2tree/04_ogs_map_ill_20x_0_0/'\n",
    "to_check_map = []\n",
    "to_check_original = []\n",
    "for file in tqdm(glob.iglob(mapping+\"*.fa\"), desc='Loading OGs ', unit=' ogs'):\n",
    "    map_rec = SeqIO.parse(file, \"fasta\")\n",
    "    for record in map_rec:\n",
    "        if 'ill' in record.id:\n",
    "            to_check_map.append(record)\n",
    "#     if os.path.exists(real+os.path.basename(file)):    \n",
    "#         ori_rec = SeqIO.parse(real+os.path.basename(file), \"fasta\")\n",
    "#         for record in ori_rec:\n",
    "#             if 'MOUSE' in record.id:\n",
    "#                 to_check_original.append(record)\n",
    "\n",
    "handle = open('/Users/daviddylus/mnt/read2tree/canva/blast/20X_map_illumina.fa', \"w\")\n",
    "writer = FastaWriter(handle, wrap=None)\n",
    "writer.write_file(to_check_map)\n",
    "\n",
    "# handle = open('/Users/daviddylus/Desktop/01X_wr_original.fa', \"w\")\n",
    "# writer = FastaWriter(handle, wrap=None)\n",
    "# writer.write_file(to_check_original)"
   ]
  },
  {
   "cell_type": "code",
   "execution_count": 6,
   "metadata": {
    "collapsed": false,
    "deletable": true,
    "editable": true
   },
   "outputs": [
    {
     "name": "stderr",
     "output_type": "stream",
     "text": [
      "Loading OGs : 1604 ogs [01:52, 14.20 ogs/s]\n"
     ]
    },
    {
     "data": {
      "text/plain": [
       "596"
      ]
     },
     "execution_count": 6,
     "metadata": {},
     "output_type": "execute_result"
    }
   ],
   "source": [
    "import os\n",
    "from tqdm import tqdm\n",
    "import glob\n",
    "from Bio import SeqIO, Seq, SeqRecord\n",
    "from Bio.Alphabet import SingleLetterAlphabet\n",
    "from Bio.SeqIO.FastaIO import FastaWriter\n",
    "folder = '/Users/daviddylus/mnt/read2tree/canva/read2tree/01_ref_ogs_aa/'\n",
    "real = '/Users/daviddylus/mnt/read2tree/canva/oma/dataset1/Output_with_CANVA/OrthologousGroupsFasta/'\n",
    "to_check_map = []\n",
    "to_check_original = []\n",
    "for file in tqdm(glob.iglob(folder+\"*.fa\"), desc='Loading OGs ', unit=' ogs'):\n",
    "    ori_rec = SeqIO.parse(real+os.path.basename(file), \"fasta\")\n",
    "    for record in ori_rec:\n",
    "            if 'CANVA' in record.id:\n",
    "                to_check_original.append(record)\n",
    "\n",
    "# handle = open('/Users/daviddylus/Desktop/01X_wr_map.fa', \"w\")\n",
    "# writer = FastaWriter(handle, wrap=None)\n",
    "# writer.write_file(to_check_map)\n",
    "\n",
    "handle = open('/Users/daviddylus/Desktop/canva.fa', \"w\")\n",
    "writer = FastaWriter(handle, wrap=None)\n",
    "writer.write_file(to_check_original)"
   ]
  },
  {
   "cell_type": "code",
   "execution_count": null,
   "metadata": {
    "collapsed": false,
    "deletable": true,
    "editable": true
   },
   "outputs": [],
   "source": [
    "from tables import *\n",
    "from pyoma.browser import db\n",
    "import glob\n",
    "from Bio import SeqIO, Seq, SeqRecord\n",
    "\n",
    "h5_file = open_file(\"/Users/daviddylus/mnt/omabrowser/OmaServer.h5\", mode=\"r\")\n",
    "bdb = db.Database(h5_file)\n",
    "bdb_id_map = db.OmaIdMapper(bdb)\n",
    "bdb_source = 'h5'"
   ]
  },
  {
   "cell_type": "code",
   "execution_count": null,
   "metadata": {
    "collapsed": false,
    "deletable": true,
    "editable": true
   },
   "outputs": [],
   "source": [
    "species_list = [row['UniProtSpeciesCode'].decode(\"utf-8\") for row in bdb_id_map.genome_table]\n",
    "\n",
    "if 'CANAV' in species_list:\n",
    "    print('bla')\n",
    "else:\n",
    "    print('blub')\n",
    "\n",
    "# print(species_list)"
   ]
  },
  {
   "cell_type": "code",
   "execution_count": null,
   "metadata": {
    "collapsed": false,
    "deletable": true,
    "editable": true
   },
   "outputs": [],
   "source": [
    "\n",
    "for file in glob.iglob(\"/Users/daviddylus/Research/read2tree/read2tree/tests/marker_genes/*.fa\"):\n",
    "    map_rec = SeqIO.parse(file, \"fasta\")\n",
    "    for record in map_rec:\n",
    "        species = record.description[record.description.find(\"[\") + 1:record.description.find(\"]\")]\n",
    "        if len(species.split(\" \")) > 1:\n",
    "            new_id = species.split(\" \")[0][0:3] + species.split(\" \")[1][0:2]\n",
    "            species = new_id.upper()\n"
   ]
  },
  {
   "cell_type": "code",
   "execution_count": 3,
   "metadata": {
    "collapsed": false,
    "deletable": true,
    "editable": true
   },
   "outputs": [
    {
     "name": "stderr",
     "output_type": "stream",
     "text": [
      "Loading OGs : 1604 ogs [01:58, 12.07 ogs/s]\n"
     ]
    }
   ],
   "source": [
    "import os\n",
    "from tqdm import tqdm\n",
    "import glob\n",
    "from Bio import SeqIO, Seq, SeqRecord\n",
    "from Bio.Alphabet import SingleLetterAlphabet\n",
    "from Bio.SeqIO.FastaIO import FastaWriter\n",
    "folder = '/Users/daviddylus/mnt/read2tree/canva/read2tree/01_ref_ogs_aa/'\n",
    "real = '/Users/daviddylus/mnt/read2tree/canva/oma/dataset1/Output_with_CANVA/OrthologousGroupsFasta/'\n",
    "for_alignment = {}\n",
    "for file in tqdm(glob.iglob(folder+\"/*.fa\"), desc='Loading OGs ', unit=' ogs'):\n",
    "    if os.path.exists(real+os.path.basename(file)):\n",
    "        ori_rec = list(SeqIO.parse(real+os.path.basename(file), \"fasta\"))\n",
    "        for record in ori_rec:\n",
    "            species = record.description[record.description.find(\"[\")+1:record.description.find(\"]\")]\n",
    "            record.id = species\n",
    "            record.description = \"\"\n",
    "        for_alignment[os.path.basename(file)] = ori_rec\n",
    "        handle = open('/Users/daviddylus/Desktop/to_align/'+os.path.basename(file), \"w\")\n",
    "        writer = FastaWriter(handle, wrap=None)\n",
    "        writer.write_file(ori_rec)\n"
   ]
  },
  {
   "cell_type": "code",
   "execution_count": 21,
   "metadata": {
    "collapsed": false,
    "deletable": true,
    "editable": true
   },
   "outputs": [
    {
     "name": "stderr",
     "output_type": "stream",
     "text": [
      "Loading OGs :   6%|▌         | 100/1604 [04:18<38:03,  1.52s/ ogs] "
     ]
    },
    {
     "name": "stdout",
     "output_type": "stream",
     "text": [
      "100 of alignments done\n"
     ]
    },
    {
     "name": "stderr",
     "output_type": "stream",
     "text": [
      "Loading OGs :  12%|█▏        | 200/1604 [08:38<1:13:11,  3.13s/ ogs]"
     ]
    },
    {
     "name": "stdout",
     "output_type": "stream",
     "text": [
      "200 of alignments done\n"
     ]
    },
    {
     "name": "stderr",
     "output_type": "stream",
     "text": [
      "Loading OGs :  19%|█▊        | 300/1604 [14:53<1:16:00,  3.50s/ ogs]"
     ]
    },
    {
     "name": "stdout",
     "output_type": "stream",
     "text": [
      "300 of alignments done\n"
     ]
    },
    {
     "name": "stderr",
     "output_type": "stream",
     "text": [
      "Loading OGs :  25%|██▍       | 400/1604 [19:21<44:19,  2.21s/ ogs]  "
     ]
    },
    {
     "name": "stdout",
     "output_type": "stream",
     "text": [
      "400 of alignments done\n"
     ]
    },
    {
     "name": "stderr",
     "output_type": "stream",
     "text": [
      "Loading OGs :  31%|███       | 500/1604 [26:26<1:00:02,  3.26s/ ogs]"
     ]
    },
    {
     "name": "stdout",
     "output_type": "stream",
     "text": [
      "500 of alignments done\n"
     ]
    },
    {
     "name": "stderr",
     "output_type": "stream",
     "text": [
      "Loading OGs :  37%|███▋      | 600/1604 [30:55<40:00,  2.39s/ ogs]  "
     ]
    },
    {
     "name": "stdout",
     "output_type": "stream",
     "text": [
      "600 of alignments done\n"
     ]
    },
    {
     "name": "stderr",
     "output_type": "stream",
     "text": [
      "Loading OGs :  44%|████▎     | 700/1604 [36:17<48:13,  3.20s/ ogs]  "
     ]
    },
    {
     "name": "stdout",
     "output_type": "stream",
     "text": [
      "700 of alignments done\n"
     ]
    },
    {
     "name": "stderr",
     "output_type": "stream",
     "text": [
      "Loading OGs :  50%|████▉     | 800/1604 [41:12<29:21,  2.19s/ ogs]  "
     ]
    },
    {
     "name": "stdout",
     "output_type": "stream",
     "text": [
      "800 of alignments done\n"
     ]
    },
    {
     "name": "stderr",
     "output_type": "stream",
     "text": [
      "Loading OGs :  56%|█████▌    | 900/1604 [49:08<15:13,  1.30s/ ogs]  "
     ]
    },
    {
     "name": "stdout",
     "output_type": "stream",
     "text": [
      "900 of alignments done\n"
     ]
    },
    {
     "name": "stderr",
     "output_type": "stream",
     "text": [
      "Loading OGs :  62%|██████▏   | 1000/1604 [56:56<31:09,  3.10s/ ogs] "
     ]
    },
    {
     "name": "stdout",
     "output_type": "stream",
     "text": [
      "1000 of alignments done\n"
     ]
    },
    {
     "name": "stderr",
     "output_type": "stream",
     "text": [
      "Loading OGs :  69%|██████▊   | 1100/1604 [1:04:02<18:30,  2.20s/ ogs]  "
     ]
    },
    {
     "name": "stdout",
     "output_type": "stream",
     "text": [
      "1100 of alignments done\n"
     ]
    },
    {
     "name": "stderr",
     "output_type": "stream",
     "text": [
      "Loading OGs :  75%|███████▍  | 1200/1604 [1:11:24<14:31,  2.16s/ ogs]  "
     ]
    },
    {
     "name": "stdout",
     "output_type": "stream",
     "text": [
      "1200 of alignments done\n"
     ]
    },
    {
     "name": "stderr",
     "output_type": "stream",
     "text": [
      "Loading OGs :  81%|████████  | 1300/1604 [1:17:42<37:48,  7.46s/ ogs]  "
     ]
    },
    {
     "name": "stdout",
     "output_type": "stream",
     "text": [
      "1300 of alignments done\n"
     ]
    },
    {
     "name": "stderr",
     "output_type": "stream",
     "text": [
      "Loading OGs :  87%|████████▋ | 1400/1604 [1:24:03<24:10,  7.11s/ ogs]"
     ]
    },
    {
     "name": "stdout",
     "output_type": "stream",
     "text": [
      "1400 of alignments done\n"
     ]
    },
    {
     "name": "stderr",
     "output_type": "stream",
     "text": [
      "Loading OGs :  94%|█████████▎| 1500/1604 [1:31:44<07:48,  4.50s/ ogs]"
     ]
    },
    {
     "name": "stdout",
     "output_type": "stream",
     "text": [
      "1500 of alignments done\n"
     ]
    },
    {
     "name": "stderr",
     "output_type": "stream",
     "text": [
      "Loading OGs : 100%|█████████▉| 1600/1604 [1:38:02<00:08,  2.09s/ ogs]"
     ]
    },
    {
     "name": "stdout",
     "output_type": "stream",
     "text": [
      "1600 of alignments done\n"
     ]
    },
    {
     "name": "stderr",
     "output_type": "stream",
     "text": [
      "Loading OGs : 100%|██████████| 1604/1604 [1:38:09<00:00,  2.09s/ ogs]\n"
     ]
    }
   ],
   "source": [
    "from zoo.wrappers.aligners import Mafft\n",
    "\n",
    "align_list = []\n",
    "counter = 0\n",
    "for key, value in tqdm(for_alignment.items(), desc='Loading OGs ', unit=' ogs'): \n",
    "    mafft_wrapper = Mafft(value, datatype=\"PROTEIN\")\n",
    "    mafft_wrapper.options.options['--localpair'].set_value(True)\n",
    "    mafft_wrapper.options.options['--maxiterate'].set_value(1000)\n",
    "    alignment = mafft_wrapper()\n",
    "    align_list.append(alignment)\n",
    "    counter += 1\n",
    "    if counter%100 == 0:\n",
    "        print('{} of alignments done'.format(counter))"
   ]
  },
  {
   "cell_type": "code",
   "execution_count": 22,
   "metadata": {
    "collapsed": false,
    "deletable": true,
    "editable": true
   },
   "outputs": [
    {
     "data": {
      "text/plain": [
       "<<class 'Bio.Align.MultipleSeqAlignment'> instance (32 records of length 1148101, SingleLetterAlphabet()) at 10f1b7a20>"
      ]
     },
     "execution_count": 22,
     "metadata": {},
     "output_type": "execute_result"
    }
   ],
   "source": [
    "import sys, re\n",
    "import os\n",
    "import getopt\n",
    "import glob\n",
    "import pyopa\n",
    "import familyanalyzer as fa\n",
    "import numpy as np\n",
    "\n",
    "from Bio import SeqIO\n",
    "from Bio.Seq import Seq\n",
    "from Bio.SeqRecord import SeqRecord\n",
    "from Bio.Alphabet import IUPAC\n",
    "from pyoma.browser import db\n",
    "from tables import *\n",
    "from Bio.SeqIO import FastaIO\n",
    "from Bio import AlignIO\n",
    "\n",
    "from zoo.seq_utils.utils import concatenate\n",
    "\n",
    "concat_align = concatenate(align_list)\n",
    "concat_align"
   ]
  },
  {
   "cell_type": "code",
   "execution_count": 23,
   "metadata": {
    "collapsed": false,
    "deletable": true,
    "editable": true
   },
   "outputs": [
    {
     "name": "stderr",
     "output_type": "stream",
     "text": [
      "Guessing is not recommended - specify the sequence type with option datatype={DNA, PROTEIN}, be more confident\n"
     ]
    },
    {
     "ename": "KeyboardInterrupt",
     "evalue": "",
     "output_type": "error",
     "traceback": [
      "\u001b[0;31m---------------------------------------------------------------------------\u001b[0m",
      "\u001b[0;31mKeyboardInterrupt\u001b[0m                         Traceback (most recent call last)",
      "\u001b[0;32m<ipython-input-23-0ea00dc499f5>\u001b[0m in \u001b[0;36m<module>\u001b[0;34m()\u001b[0m\n\u001b[1;32m      1\u001b[0m \u001b[0;32mfrom\u001b[0m \u001b[0mzoo\u001b[0m\u001b[0;34m.\u001b[0m\u001b[0mwrappers\u001b[0m\u001b[0;34m.\u001b[0m\u001b[0mtreebuilders\u001b[0m \u001b[0;32mimport\u001b[0m \u001b[0mFasttree\u001b[0m\u001b[0;34m\u001b[0m\u001b[0m\n\u001b[1;32m      2\u001b[0m \u001b[0mfasttree_wrapper\u001b[0m \u001b[0;34m=\u001b[0m \u001b[0mFasttree\u001b[0m\u001b[0;34m(\u001b[0m\u001b[0mconcat_align\u001b[0m\u001b[0;34m)\u001b[0m\u001b[0;34m\u001b[0m\u001b[0m\n\u001b[0;32m----> 3\u001b[0;31m \u001b[0mtree\u001b[0m \u001b[0;34m=\u001b[0m \u001b[0mfasttree_wrapper\u001b[0m\u001b[0;34m(\u001b[0m\u001b[0;34m)\u001b[0m\u001b[0;34m\u001b[0m\u001b[0m\n\u001b[0m",
      "\u001b[0;32m/Users/daviddylus/.pyenv/versions/3.5.1/envs/notebook3/src/zoo/zoo/wrappers/treebuilders/fasttree.py\u001b[0m in \u001b[0;36m__call__\u001b[0;34m(self, *args, **kwargs)\u001b[0m\n\u001b[1;32m     64\u001b[0m                 \u001b[0mSeqIO\u001b[0m\u001b[0;34m.\u001b[0m\u001b[0mwrite\u001b[0m\u001b[0;34m(\u001b[0m\u001b[0mself\u001b[0m\u001b[0;34m.\u001b[0m\u001b[0minput\u001b[0m\u001b[0;34m,\u001b[0m \u001b[0mfh\u001b[0m\u001b[0;34m,\u001b[0m \u001b[0;34m'phylip-relaxed'\u001b[0m\u001b[0;34m)\u001b[0m \u001b[0;31m# default interleaved\u001b[0m\u001b[0;34m\u001b[0m\u001b[0m\n\u001b[1;32m     65\u001b[0m                 \u001b[0mfh\u001b[0m\u001b[0;34m.\u001b[0m\u001b[0mseek\u001b[0m\u001b[0;34m(\u001b[0m\u001b[0;36m0\u001b[0m\u001b[0;34m)\u001b[0m\u001b[0;34m\u001b[0m\u001b[0m\n\u001b[0;32m---> 66\u001b[0;31m                 \u001b[0moutput\u001b[0m\u001b[0;34m,\u001b[0m \u001b[0merror\u001b[0m \u001b[0;34m=\u001b[0m \u001b[0mself\u001b[0m\u001b[0;34m.\u001b[0m\u001b[0m_call\u001b[0m\u001b[0;34m(\u001b[0m\u001b[0mfh\u001b[0m\u001b[0;34m.\u001b[0m\u001b[0mname\u001b[0m\u001b[0;34m,\u001b[0m \u001b[0;34m*\u001b[0m\u001b[0margs\u001b[0m\u001b[0;34m,\u001b[0m \u001b[0;34m**\u001b[0m\u001b[0mkwargs\u001b[0m\u001b[0;34m)\u001b[0m\u001b[0;34m\u001b[0m\u001b[0m\n\u001b[0m\u001b[1;32m     67\u001b[0m                 \u001b[0mself\u001b[0m\u001b[0;34m.\u001b[0m\u001b[0mresult\u001b[0m \u001b[0;34m=\u001b[0m \u001b[0mself\u001b[0m\u001b[0;34m.\u001b[0m\u001b[0m_read_result\u001b[0m\u001b[0;34m(\u001b[0m\u001b[0moutput\u001b[0m\u001b[0;34m,\u001b[0m \u001b[0merror\u001b[0m\u001b[0;34m)\u001b[0m  \u001b[0;31m# store result\u001b[0m\u001b[0;34m\u001b[0m\u001b[0m\n\u001b[1;32m     68\u001b[0m         \u001b[0;32melse\u001b[0m\u001b[0;34m:\u001b[0m\u001b[0;34m\u001b[0m\u001b[0m\n",
      "\u001b[0;32m/Users/daviddylus/.pyenv/versions/3.5.1/envs/notebook3/src/zoo/zoo/wrappers/treebuilders/fasttree.py\u001b[0m in \u001b[0;36m_call\u001b[0;34m(self, filename, *args, **kwargs)\u001b[0m\n\u001b[1;32m     86\u001b[0m         \u001b[0;31m#hard code tmp_output as the output name since we don't save it anyway\u001b[0m\u001b[0;34m\u001b[0m\u001b[0;34m\u001b[0m\u001b[0m\n\u001b[1;32m     87\u001b[0m         \u001b[0;31m#self.cli('{} -log {log_output} {seqfile} > {tmp_path}'.format(self.command(), tmp_path=os.path.join(tmpd,'tmp_output'), log_output=logfile, seqfile=filename), wait=True)\u001b[0m\u001b[0;34m\u001b[0m\u001b[0;34m\u001b[0m\u001b[0m\n\u001b[0;32m---> 88\u001b[0;31m         \u001b[0mself\u001b[0m\u001b[0;34m.\u001b[0m\u001b[0mcli\u001b[0m\u001b[0;34m(\u001b[0m\u001b[0;34m'{} {seq_file}'\u001b[0m\u001b[0;34m.\u001b[0m\u001b[0mformat\u001b[0m\u001b[0;34m(\u001b[0m\u001b[0mself\u001b[0m\u001b[0;34m.\u001b[0m\u001b[0mcommand\u001b[0m\u001b[0;34m(\u001b[0m\u001b[0;34m)\u001b[0m\u001b[0;34m,\u001b[0m \u001b[0mseq_file\u001b[0m\u001b[0;34m=\u001b[0m\u001b[0mfilename\u001b[0m\u001b[0;34m)\u001b[0m\u001b[0;34m,\u001b[0m \u001b[0mwait\u001b[0m\u001b[0;34m=\u001b[0m\u001b[0;32mTrue\u001b[0m\u001b[0;34m)\u001b[0m\u001b[0;34m\u001b[0m\u001b[0m\n\u001b[0m\u001b[1;32m     89\u001b[0m \u001b[0;34m\u001b[0m\u001b[0m\n\u001b[1;32m     90\u001b[0m         \u001b[0;32mreturn\u001b[0m \u001b[0;34m(\u001b[0m\u001b[0mself\u001b[0m\u001b[0;34m.\u001b[0m\u001b[0mcli\u001b[0m\u001b[0;34m.\u001b[0m\u001b[0mget_stdout\u001b[0m\u001b[0;34m(\u001b[0m\u001b[0;34m)\u001b[0m\u001b[0;34m,\u001b[0m \u001b[0mself\u001b[0m\u001b[0;34m.\u001b[0m\u001b[0mcli\u001b[0m\u001b[0;34m.\u001b[0m\u001b[0mget_stderr\u001b[0m\u001b[0;34m(\u001b[0m\u001b[0;34m)\u001b[0m\u001b[0;34m)\u001b[0m\u001b[0;34m\u001b[0m\u001b[0m\n",
      "\u001b[0;32m/Users/daviddylus/.pyenv/versions/3.5.1/envs/notebook3/src/zoo/zoo/wrappers/abstract_cli.py\u001b[0m in \u001b[0;36m__call__\u001b[0;34m(self, cmd, wait, **flags)\u001b[0m\n\u001b[1;32m    226\u001b[0m \u001b[0;34m\u001b[0m\u001b[0m\n\u001b[1;32m    227\u001b[0m         \u001b[0;32mif\u001b[0m \u001b[0mwait\u001b[0m\u001b[0;34m:\u001b[0m\u001b[0;34m\u001b[0m\u001b[0m\n\u001b[0;32m--> 228\u001b[0;31m             \u001b[0mself\u001b[0m\u001b[0;34m.\u001b[0m\u001b[0mprocess\u001b[0m\u001b[0;34m.\u001b[0m\u001b[0mwait\u001b[0m\u001b[0;34m(\u001b[0m\u001b[0;34m)\u001b[0m\u001b[0;34m\u001b[0m\u001b[0m\n\u001b[0m\u001b[1;32m    229\u001b[0m             \u001b[0mself\u001b[0m\u001b[0;34m.\u001b[0m\u001b[0m_join_threads\u001b[0m\u001b[0;34m(\u001b[0m\u001b[0;34m)\u001b[0m\u001b[0;34m\u001b[0m\u001b[0m\n\u001b[1;32m    230\u001b[0m \u001b[0;34m\u001b[0m\u001b[0m\n",
      "\u001b[0;32m/Users/daviddylus/.pyenv/versions/3.5.1/Python.framework/Versions/3.5/lib/python3.5/subprocess.py\u001b[0m in \u001b[0;36mwait\u001b[0;34m(self, timeout, endtime)\u001b[0m\n\u001b[1;32m   1649\u001b[0m                         \u001b[0;32mif\u001b[0m \u001b[0mself\u001b[0m\u001b[0;34m.\u001b[0m\u001b[0mreturncode\u001b[0m \u001b[0;32mis\u001b[0m \u001b[0;32mnot\u001b[0m \u001b[0;32mNone\u001b[0m\u001b[0;34m:\u001b[0m\u001b[0;34m\u001b[0m\u001b[0m\n\u001b[1;32m   1650\u001b[0m                             \u001b[0;32mbreak\u001b[0m  \u001b[0;31m# Another thread waited.\u001b[0m\u001b[0;34m\u001b[0m\u001b[0m\n\u001b[0;32m-> 1651\u001b[0;31m                         \u001b[0;34m(\u001b[0m\u001b[0mpid\u001b[0m\u001b[0;34m,\u001b[0m \u001b[0msts\u001b[0m\u001b[0;34m)\u001b[0m \u001b[0;34m=\u001b[0m \u001b[0mself\u001b[0m\u001b[0;34m.\u001b[0m\u001b[0m_try_wait\u001b[0m\u001b[0;34m(\u001b[0m\u001b[0;36m0\u001b[0m\u001b[0;34m)\u001b[0m\u001b[0;34m\u001b[0m\u001b[0m\n\u001b[0m\u001b[1;32m   1652\u001b[0m                         \u001b[0;31m# Check the pid and loop as waitpid has been known to\u001b[0m\u001b[0;34m\u001b[0m\u001b[0;34m\u001b[0m\u001b[0m\n\u001b[1;32m   1653\u001b[0m                         \u001b[0;31m# return 0 even without WNOHANG in odd situations.\u001b[0m\u001b[0;34m\u001b[0m\u001b[0;34m\u001b[0m\u001b[0m\n",
      "\u001b[0;32m/Users/daviddylus/.pyenv/versions/3.5.1/Python.framework/Versions/3.5/lib/python3.5/subprocess.py\u001b[0m in \u001b[0;36m_try_wait\u001b[0;34m(self, wait_flags)\u001b[0m\n\u001b[1;32m   1599\u001b[0m             \u001b[0;34m\"\"\"All callers to this function MUST hold self._waitpid_lock.\"\"\"\u001b[0m\u001b[0;34m\u001b[0m\u001b[0m\n\u001b[1;32m   1600\u001b[0m             \u001b[0;32mtry\u001b[0m\u001b[0;34m:\u001b[0m\u001b[0;34m\u001b[0m\u001b[0m\n\u001b[0;32m-> 1601\u001b[0;31m                 \u001b[0;34m(\u001b[0m\u001b[0mpid\u001b[0m\u001b[0;34m,\u001b[0m \u001b[0msts\u001b[0m\u001b[0;34m)\u001b[0m \u001b[0;34m=\u001b[0m \u001b[0mos\u001b[0m\u001b[0;34m.\u001b[0m\u001b[0mwaitpid\u001b[0m\u001b[0;34m(\u001b[0m\u001b[0mself\u001b[0m\u001b[0;34m.\u001b[0m\u001b[0mpid\u001b[0m\u001b[0;34m,\u001b[0m \u001b[0mwait_flags\u001b[0m\u001b[0;34m)\u001b[0m\u001b[0;34m\u001b[0m\u001b[0m\n\u001b[0m\u001b[1;32m   1602\u001b[0m             \u001b[0;32mexcept\u001b[0m \u001b[0mChildProcessError\u001b[0m\u001b[0;34m:\u001b[0m\u001b[0;34m\u001b[0m\u001b[0m\n\u001b[1;32m   1603\u001b[0m                 \u001b[0;31m# This happens if SIGCLD is set to be ignored or waiting\u001b[0m\u001b[0;34m\u001b[0m\u001b[0;34m\u001b[0m\u001b[0m\n",
      "\u001b[0;31mKeyboardInterrupt\u001b[0m: "
     ]
    }
   ],
   "source": [
    "from zoo.wrappers.treebuilders import Fasttree\n",
    "fasttree_wrapper = Fasttree(concat_align)\n",
    "tree = fasttree_wrapper()"
   ]
  },
  {
   "cell_type": "code",
   "execution_count": 24,
   "metadata": {
    "collapsed": false,
    "deletable": true,
    "editable": true
   },
   "outputs": [
    {
     "data": {
      "text/plain": [
       "1"
      ]
     },
     "execution_count": 24,
     "metadata": {},
     "output_type": "execute_result"
    }
   ],
   "source": [
    "ALIGN_OUT = '/Users/daviddylus/Desktop/'\n",
    "output_handle = open(ALIGN_OUT+\"CONCAT.phy\", \"w\")\n",
    "AlignIO.write(concat_align, output_handle, \"phylip\")"
   ]
  },
  {
   "cell_type": "code",
   "execution_count": null,
   "metadata": {
    "collapsed": true,
    "deletable": true,
    "editable": true
   },
   "outputs": [],
   "source": []
  }
 ],
 "metadata": {
  "kernelspec": {
   "display_name": "Python 3",
   "language": "python",
   "name": "python3"
  },
  "language_info": {
   "codemirror_mode": {
    "name": "ipython",
    "version": 3
   },
   "file_extension": ".py",
   "mimetype": "text/x-python",
   "name": "python",
   "nbconvert_exporter": "python",
   "pygments_lexer": "ipython3",
   "version": "3.5.1"
  }
 },
 "nbformat": 4,
 "nbformat_minor": 2
}
